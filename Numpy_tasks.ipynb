{
  "cells": [
    {
      "cell_type": "markdown",
      "metadata": {
        "id": "view-in-github",
        "colab_type": "text"
      },
      "source": [
        "<a href=\"https://colab.research.google.com/github/Raghubr11/Email-registration-and-Login/blob/main/Numpy_tasks.ipynb\" target=\"_parent\"><img src=\"https://colab.research.google.com/assets/colab-badge.svg\" alt=\"Open In Colab\"/></a>"
      ]
    },
    {
      "cell_type": "markdown",
      "metadata": {
        "id": "fM7RuVOojcAx"
      },
      "source": [
        "# Numpy\n",
        "\n"
      ]
    },
    {
      "cell_type": "markdown",
      "metadata": {
        "id": "v3VeUplAjcA5"
      },
      "source": [
        "#### 1. Import the numpy package under the name `np` (★☆☆) \n",
        "(**hint**: import … as …)"
      ]
    },
    {
      "cell_type": "code",
      "execution_count": null,
      "metadata": {
        "collapsed": true,
        "id": "m1J-kHQvjcA6"
      },
      "outputs": [],
      "source": [
        "import numpy as np"
      ]
    },
    {
      "cell_type": "markdown",
      "metadata": {
        "id": "pz3IirUKjcA7"
      },
      "source": [
        "#### 2. Print the numpy version and the configuration (★☆☆) \n",
        "(**hint**: np.\\_\\_version\\_\\_, np.show\\_config)"
      ]
    },
    {
      "cell_type": "code",
      "execution_count": null,
      "metadata": {
        "id": "DxJ2LLLPjcA8",
        "outputId": "53d2b434-5cfb-4059-e8fb-a617f764cd68",
        "colab": {
          "base_uri": "https://localhost:8080/"
        }
      },
      "outputs": [
        {
          "output_type": "stream",
          "name": "stdout",
          "text": [
            "blas_mkl_info:\n",
            "  NOT AVAILABLE\n",
            "blis_info:\n",
            "  NOT AVAILABLE\n",
            "openblas_info:\n",
            "    libraries = ['openblas', 'openblas']\n",
            "    library_dirs = ['/usr/local/lib']\n",
            "    language = c\n",
            "    define_macros = [('HAVE_CBLAS', None)]\n",
            "    runtime_library_dirs = ['/usr/local/lib']\n",
            "blas_opt_info:\n",
            "    libraries = ['openblas', 'openblas']\n",
            "    library_dirs = ['/usr/local/lib']\n",
            "    language = c\n",
            "    define_macros = [('HAVE_CBLAS', None)]\n",
            "    runtime_library_dirs = ['/usr/local/lib']\n",
            "lapack_mkl_info:\n",
            "  NOT AVAILABLE\n",
            "openblas_lapack_info:\n",
            "    libraries = ['openblas', 'openblas']\n",
            "    library_dirs = ['/usr/local/lib']\n",
            "    language = c\n",
            "    define_macros = [('HAVE_CBLAS', None)]\n",
            "    runtime_library_dirs = ['/usr/local/lib']\n",
            "lapack_opt_info:\n",
            "    libraries = ['openblas', 'openblas']\n",
            "    library_dirs = ['/usr/local/lib']\n",
            "    language = c\n",
            "    define_macros = [('HAVE_CBLAS', None)]\n",
            "    runtime_library_dirs = ['/usr/local/lib']\n",
            "Supported SIMD extensions in this NumPy install:\n",
            "    baseline = SSE,SSE2,SSE3\n",
            "    found = SSSE3,SSE41,POPCNT,SSE42,AVX,F16C,FMA3,AVX2\n",
            "    not found = AVX512F,AVX512CD,AVX512_KNL,AVX512_KNM,AVX512_SKX,AVX512_CLX,AVX512_CNL,AVX512_ICL\n",
            "1.21.6 None\n"
          ]
        }
      ],
      "source": [
        "print(np.__version__,np.show_config())"
      ]
    },
    {
      "cell_type": "markdown",
      "metadata": {
        "id": "MhBWZdtPjcA9"
      },
      "source": [
        "#### 3. Create a null vector of size 10 (★☆☆) \n",
        "(**hint**: np.zeros)"
      ]
    },
    {
      "cell_type": "code",
      "execution_count": null,
      "metadata": {
        "id": "OYsyotRujcA-"
      },
      "outputs": [],
      "source": [
        "a=np.zeros(10)"
      ]
    },
    {
      "cell_type": "markdown",
      "metadata": {
        "id": "W4bm3KgGjcA_"
      },
      "source": [
        "#### 4.  How to find the memory size of any array (★☆☆) \n",
        "(**hint**: size, itemsize)"
      ]
    },
    {
      "cell_type": "code",
      "execution_count": null,
      "metadata": {
        "id": "hempzslfjcBA",
        "outputId": "6fd23e84-b9f2-4731-9f04-b9b2b87b2865",
        "colab": {
          "base_uri": "https://localhost:8080/"
        }
      },
      "outputs": [
        {
          "output_type": "stream",
          "name": "stdout",
          "text": [
            "size of an array:  10\n"
          ]
        }
      ],
      "source": [
        "print('size of an array: ',a.size)"
      ]
    },
    {
      "cell_type": "markdown",
      "metadata": {
        "id": "CzNqlpm4jcBB"
      },
      "source": [
        "#### 5.  How to get the documentation of the numpy add function from the command line? (★☆☆) \n",
        "(**hint**: np.info)"
      ]
    },
    {
      "cell_type": "code",
      "execution_count": null,
      "metadata": {
        "collapsed": true,
        "id": "YjDqZG7ujcBB"
      },
      "outputs": [],
      "source": [
        "#python\n",
        "#>>>import numpy; numpy.info(numpy.add)"
      ]
    },
    {
      "cell_type": "markdown",
      "metadata": {
        "id": "fxo-5zhgjcBC"
      },
      "source": [
        "#### 6.  Create a null vector of size 10 but the fifth value which is 1 (★☆☆) \n",
        "(**hint**: array\\[4\\])"
      ]
    },
    {
      "cell_type": "code",
      "execution_count": null,
      "metadata": {
        "id": "V74Za3hxjcBD",
        "outputId": "ea52bbeb-ccb8-4f66-d637-cc89db7cb313",
        "colab": {
          "base_uri": "https://localhost:8080/"
        }
      },
      "outputs": [
        {
          "output_type": "stream",
          "name": "stdout",
          "text": [
            "[0. 0. 0. 0. 1. 0. 0. 0. 0. 0.]\n"
          ]
        }
      ],
      "source": [
        "x= np.zeros(10)\n",
        "x[4]= 1\n",
        "print (x)"
      ]
    },
    {
      "cell_type": "markdown",
      "metadata": {
        "id": "v16AtJAkjcBD"
      },
      "source": [
        "#### 7.  Create a vector with values ranging from 10 to 49 (★☆☆) \n",
        "(**hint**: np.arange)"
      ]
    },
    {
      "cell_type": "code",
      "execution_count": null,
      "metadata": {
        "id": "_LrMrBZLjcBF",
        "outputId": "899b5e7c-4cdf-457b-ec02-c73608468204",
        "colab": {
          "base_uri": "https://localhost:8080/"
        }
      },
      "outputs": [
        {
          "output_type": "stream",
          "name": "stdout",
          "text": [
            "[10 11 12 13 14 15 16 17 18 19 20 21 22 23 24 25 26 27 28 29 30 31 32 33\n",
            " 34 35 36 37 38 39 40 41 42 43 44 45 46 47 48 49]\n"
          ]
        }
      ],
      "source": [
        "x=np.arange(10,50)\n",
        "print (x)"
      ]
    },
    {
      "cell_type": "markdown",
      "metadata": {
        "id": "qRzLLfDFjcBF"
      },
      "source": [
        "#### 8.  Reverse a vector (first element becomes last) (★☆☆) \n",
        "(**hint**: array\\[::-1\\])"
      ]
    },
    {
      "cell_type": "code",
      "execution_count": null,
      "metadata": {
        "id": "WRCz5bPCjcBG",
        "outputId": "aeace127-edd3-42f7-8932-3abe78a2dbc2",
        "colab": {
          "base_uri": "https://localhost:8080/"
        }
      },
      "outputs": [
        {
          "output_type": "stream",
          "name": "stdout",
          "text": [
            "[10  9  8  7  6  5  4  3  2  1]\n"
          ]
        }
      ],
      "source": [
        "x = np.arange(1,11)\n",
        "x= x[::-1]\n",
        "print (x)"
      ]
    },
    {
      "cell_type": "markdown",
      "metadata": {
        "id": "S0LPuVjFjcBH"
      },
      "source": [
        "#### 9.  Create a 3x3 matrix with values ranging from 0 to 8 (★☆☆) \n",
        "(**hint**: reshape)"
      ]
    },
    {
      "cell_type": "code",
      "execution_count": null,
      "metadata": {
        "id": "XsMs56EvjcBI",
        "colab": {
          "base_uri": "https://localhost:8080/"
        },
        "outputId": "be90b826-90ea-4da3-c9ac-af197b8ad0da"
      },
      "outputs": [
        {
          "output_type": "stream",
          "name": "stdout",
          "text": [
            "[[0 1 2]\n",
            " [3 4 5]\n",
            " [6 7 8]]\n"
          ]
        }
      ],
      "source": [
        "x = np.arange(9).reshape(3,3)\n",
        "print (x)"
      ]
    },
    {
      "cell_type": "markdown",
      "metadata": {
        "id": "gRi1W8gXjcBJ"
      },
      "source": [
        "#### 10. Find indices of non-zero elements from \\[1,2,0,0,4,0\\] (★☆☆) \n",
        "(**hint**: np.nonzero)"
      ]
    },
    {
      "cell_type": "code",
      "execution_count": null,
      "metadata": {
        "id": "x0FUnX5JjcBK",
        "colab": {
          "base_uri": "https://localhost:8080/"
        },
        "outputId": "ca7fc3a9-4eef-4a9b-82ca-69514befb863"
      },
      "outputs": [
        {
          "output_type": "stream",
          "name": "stdout",
          "text": [
            "(array([0, 1, 4]),)\n"
          ]
        }
      ],
      "source": [
        "x = np.nonzero([1,2,0,0,4,0])\n",
        "print(x)"
      ]
    },
    {
      "cell_type": "markdown",
      "metadata": {
        "id": "OU4nmnNXjcBL"
      },
      "source": [
        "#### 11. Create a 3x3 identity matrix (★☆☆) \n",
        "(**hint**: np.eye)"
      ]
    },
    {
      "cell_type": "code",
      "execution_count": null,
      "metadata": {
        "id": "4txW5ZP5jcBL",
        "colab": {
          "base_uri": "https://localhost:8080/"
        },
        "outputId": "33e26382-303b-42a8-a262-74bf52ac19cb"
      },
      "outputs": [
        {
          "output_type": "stream",
          "name": "stdout",
          "text": [
            "[[1. 0. 0.]\n",
            " [0. 1. 0.]\n",
            " [0. 0. 1.]]\n"
          ]
        }
      ],
      "source": [
        "x= np.eye(3)\n",
        "print (x)"
      ]
    },
    {
      "cell_type": "markdown",
      "metadata": {
        "id": "n5CaR-DFjcBM"
      },
      "source": [
        "#### 12. Create a 3x3x3 array with random values (★☆☆) \n",
        "(**hint**: np.random.random)"
      ]
    },
    {
      "cell_type": "code",
      "execution_count": null,
      "metadata": {
        "collapsed": true,
        "id": "8mAuTsjtjcBM",
        "colab": {
          "base_uri": "https://localhost:8080/"
        },
        "outputId": "1d06ca83-ecff-441b-ca58-de3aba777d9e"
      },
      "outputs": [
        {
          "output_type": "stream",
          "name": "stdout",
          "text": [
            "[[[0.16503985 0.64406252 0.78418064]\n",
            "  [0.36716317 0.98350424 0.83319344]\n",
            "  [0.75142397 0.34864111 0.3711581 ]]\n",
            "\n",
            " [[0.62072199 0.98602559 0.10643015]\n",
            "  [0.28937581 0.45397272 0.54188444]\n",
            "  [0.7187613  0.11674133 0.98409483]]\n",
            "\n",
            " [[0.35820127 0.83614151 0.31913571]\n",
            "  [0.2735354  0.88097388 0.05141987]\n",
            "  [0.43303704 0.35779301 0.35469471]]]\n"
          ]
        }
      ],
      "source": [
        "x = np.random.random((3,3,3))\n",
        "print (x)"
      ]
    },
    {
      "cell_type": "markdown",
      "metadata": {
        "id": "u3numvT6jcBN"
      },
      "source": [
        "#### 13. Create a 10x10 array with random values and find the minimum and maximum values (★☆☆) \n",
        "(**hint**: min, max)"
      ]
    },
    {
      "cell_type": "code",
      "execution_count": null,
      "metadata": {
        "id": "t5tHjrQAjcBN",
        "colab": {
          "base_uri": "https://localhost:8080/"
        },
        "outputId": "f7fb09be-e758-4245-e107-97dea1cc13e8"
      },
      "outputs": [
        {
          "output_type": "stream",
          "name": "stdout",
          "text": [
            "[[0.97162537 0.33290157 0.33729492 0.5690544  0.83848039 0.89591289\n",
            "  0.5542471  0.44847616 0.23555346 0.90081464]\n",
            " [0.70116157 0.39305901 0.62139039 0.98439766 0.27105499 0.05102281\n",
            "  0.20420162 0.05660544 0.22506624 0.95286424]\n",
            " [0.79236277 0.00350044 0.52841056 0.61429654 0.93291073 0.21924771\n",
            "  0.3418363  0.39926988 0.07709103 0.95741221]\n",
            " [0.33094544 0.0662333  0.38772718 0.33923273 0.84943951 0.42136389\n",
            "  0.10084456 0.18573485 0.88680633 0.1751149 ]\n",
            " [0.98744972 0.62330313 0.59539997 0.31656353 0.34151135 0.48290023\n",
            "  0.47080176 0.35334875 0.75931141 0.74770927]\n",
            " [0.16554919 0.456488   0.9170891  0.99716779 0.67810708 0.47734507\n",
            "  0.75257007 0.21273706 0.02427726 0.13512226]\n",
            " [0.12466722 0.11488175 0.70360538 0.58942913 0.75923096 0.98426005\n",
            "  0.88886555 0.14430865 0.26767299 0.81028216]\n",
            " [0.8544375  0.90702759 0.99246828 0.40968646 0.1323478  0.32501161\n",
            "  0.06345193 0.61140419 0.10736518 0.36814398]\n",
            " [0.77507034 0.46591259 0.49558596 0.65578849 0.19433565 0.53603066\n",
            "  0.9852466  0.17657625 0.69063061 0.90421762]\n",
            " [0.58422882 0.5497688  0.40294425 0.76103443 0.28026827 0.2150411\n",
            "  0.74145258 0.69754606 0.65911669 0.37313713]]\n",
            "Minimum:  0.003500443052358415 Maximum:  0.997167794906358\n"
          ]
        }
      ],
      "source": [
        "x = np.random.random((10,10))\n",
        "xmin, xmax = x.min(), x.max()\n",
        "print(x)\n",
        "print('Minimum: ',xmin,'Maximum: ',xmax)"
      ]
    },
    {
      "cell_type": "markdown",
      "metadata": {
        "id": "poguns1pjcBN"
      },
      "source": [
        "#### 14. Create a random vector of size 30 and find the mean value (★☆☆) \n",
        "(**hint**: mean)"
      ]
    },
    {
      "cell_type": "code",
      "execution_count": null,
      "metadata": {
        "id": "Y_1Jg_pijcBO",
        "colab": {
          "base_uri": "https://localhost:8080/"
        },
        "outputId": "254e8767-8c4b-4591-84a6-9e38c747b542"
      },
      "outputs": [
        {
          "output_type": "stream",
          "name": "stdout",
          "text": [
            "[0.66612341 0.15173648 0.68554286 0.98462807 0.84222739 0.77225933\n",
            " 0.88725822 0.27680518 0.99907949 0.60774286 0.97507813 0.30587505\n",
            " 0.43485556 0.57175279 0.104563   0.41563739 0.46625818 0.8096729\n",
            " 0.81134272 0.74202049 0.35156552 0.21422452 0.04107263 0.12123626\n",
            " 0.16800105 0.01460903 0.38400064 0.43536434 0.29951954 0.08853892]\n",
            "Mean:  0.48761973261335423\n"
          ]
        }
      ],
      "source": [
        "x=np.random.random(30)\n",
        "m=np.mean(x)\n",
        "print(x)\n",
        "print('Mean: ',m)"
      ]
    },
    {
      "cell_type": "markdown",
      "metadata": {
        "id": "ow0Cs061jcBO"
      },
      "source": [
        "#### 15. Create a 2d array with 1 on the border and 0 inside (★☆☆) \n",
        "(**hint**: array\\[1:-1, 1:-1\\])"
      ]
    },
    {
      "cell_type": "code",
      "execution_count": null,
      "metadata": {
        "id": "51n_Usn-jcBO",
        "colab": {
          "base_uri": "https://localhost:8080/"
        },
        "outputId": "161a7f18-70c4-4020-f992-e0a1bdc93d7d"
      },
      "outputs": [
        {
          "output_type": "stream",
          "name": "stdout",
          "text": [
            "[[1. 1. 1. 1. 1. 1. 1.]\n",
            " [1. 0. 0. 0. 0. 0. 1.]\n",
            " [1. 0. 0. 0. 0. 0. 1.]\n",
            " [1. 0. 0. 0. 0. 0. 1.]\n",
            " [1. 0. 0. 0. 0. 0. 1.]\n",
            " [1. 0. 0. 0. 0. 0. 1.]\n",
            " [1. 1. 1. 1. 1. 1. 1.]]\n"
          ]
        }
      ],
      "source": [
        "x = np.ones((7,7))\n",
        "x[1:-1,1:-1]=0\n",
        "print(x)"
      ]
    },
    {
      "cell_type": "markdown",
      "metadata": {
        "id": "hZo6AjRmjcBP"
      },
      "source": [
        "#### 16. How to add a border (filled with 0's) around an existing array? (★☆☆) \n",
        "(**hint**: np.pad)"
      ]
    },
    {
      "cell_type": "code",
      "execution_count": null,
      "metadata": {
        "id": "vSfqY78YjcBP",
        "colab": {
          "base_uri": "https://localhost:8080/"
        },
        "outputId": "726bcbc7-fb08-4b00-d21e-73e77d3d1982"
      },
      "outputs": [
        {
          "output_type": "stream",
          "name": "stdout",
          "text": [
            "[[0. 0. 0. 0. 0. 0. 0. 0. 0.]\n",
            " [0. 1. 1. 1. 1. 1. 1. 1. 0.]\n",
            " [0. 1. 1. 1. 1. 1. 1. 1. 0.]\n",
            " [0. 1. 1. 1. 1. 1. 1. 1. 0.]\n",
            " [0. 1. 1. 1. 1. 1. 1. 1. 0.]\n",
            " [0. 1. 1. 1. 1. 1. 1. 1. 0.]\n",
            " [0. 1. 1. 1. 1. 1. 1. 1. 0.]\n",
            " [0. 1. 1. 1. 1. 1. 1. 1. 0.]\n",
            " [0. 0. 0. 0. 0. 0. 0. 0. 0.]]\n"
          ]
        }
      ],
      "source": [
        "import numpy as np\n",
        "x = np.ones((7,7))\n",
        "x = np.pad(x, pad_width=1, mode='constant', constant_values=0)\n",
        "print(x)"
      ]
    },
    {
      "cell_type": "markdown",
      "metadata": {
        "id": "OJCC1dYDjcBP"
      },
      "source": [
        "#### 17. What is the result of the following expression? (★☆☆) \n",
        "(**hint**: NaN = not a number, inf = infinity)"
      ]
    },
    {
      "cell_type": "markdown",
      "metadata": {
        "id": "BNHOO9rjjcBQ"
      },
      "source": [
        "```python\n",
        "0 * np.nan\n",
        "np.nan == np.nan\n",
        "np.inf > np.nan\n",
        "np.nan - np.nan\n",
        "0.3 == 3 * 0.1\n",
        "```"
      ]
    },
    {
      "cell_type": "code",
      "execution_count": null,
      "metadata": {
        "id": "PVj87EhBjcBR",
        "colab": {
          "base_uri": "https://localhost:8080/"
        },
        "outputId": "f50ef575-72c2-463f-bd47-1ee3fb0d88ee"
      },
      "outputs": [
        {
          "output_type": "stream",
          "name": "stdout",
          "text": [
            "nan\n",
            "False\n",
            "False\n",
            "nan\n",
            "False\n"
          ]
        }
      ],
      "source": [
        "print(0 * np.nan)\n",
        "print(np.nan == np.nan)\n",
        "print(np.inf > np.nan)\n",
        "print(np.nan - np.nan)\n",
        "print(0.3 == 3 * 0.1)"
      ]
    },
    {
      "cell_type": "markdown",
      "metadata": {
        "id": "2CcqM1MejcBS"
      },
      "source": [
        "#### 18. Create a 5x5 matrix with values 1,2,3,4 just below the diagonal (★☆☆) \n",
        "(**hint**: np.diag)"
      ]
    },
    {
      "cell_type": "code",
      "execution_count": null,
      "metadata": {
        "id": "hnhfQUSBjcBS",
        "colab": {
          "base_uri": "https://localhost:8080/"
        },
        "outputId": "2fac3bb3-a85f-4017-b5cc-af1e5d12da9b"
      },
      "outputs": [
        {
          "output_type": "stream",
          "name": "stdout",
          "text": [
            "[[0 0 0 0 0]\n",
            " [1 0 0 0 0]\n",
            " [0 2 0 0 0]\n",
            " [0 0 3 0 0]\n",
            " [0 0 0 4 0]]\n"
          ]
        }
      ],
      "source": [
        "x = np.diag(1+np.arange(4), k = -1)\n",
        "print (x)"
      ]
    },
    {
      "cell_type": "markdown",
      "metadata": {
        "id": "68BkWGn3jcBS"
      },
      "source": [
        "#### 19. Create a 8x8 matrix and fill it with a checkerboard pattern (★☆☆) \n",
        "(**hint**: array\\[::2\\])"
      ]
    },
    {
      "cell_type": "code",
      "execution_count": null,
      "metadata": {
        "id": "WU629XQmjcBT",
        "colab": {
          "base_uri": "https://localhost:8080/"
        },
        "outputId": "c1aa4ba3-0fec-407b-801c-e12f1de19564"
      },
      "outputs": [
        {
          "output_type": "stream",
          "name": "stdout",
          "text": [
            "[[0 1 0 1 0 1 0 1]\n",
            " [1 0 1 0 1 0 1 0]\n",
            " [0 1 0 1 0 1 0 1]\n",
            " [1 0 1 0 1 0 1 0]\n",
            " [0 1 0 1 0 1 0 1]\n",
            " [1 0 1 0 1 0 1 0]\n",
            " [0 1 0 1 0 1 0 1]\n",
            " [1 0 1 0 1 0 1 0]]\n"
          ]
        }
      ],
      "source": [
        "x = np.zeros ((8,8), dtype=int)\n",
        "x[1::2, ::2]= 1\n",
        "x[::2, 1::2] = 1\n",
        "print (x)"
      ]
    },
    {
      "cell_type": "markdown",
      "metadata": {
        "id": "KcdYJPTbjcBT"
      },
      "source": [
        "#### 20. Consider a (6,7,8) shape array, what is the index (x,y,z) of the 100th element? \n",
        "(**hint**: np.unravel_index)"
      ]
    },
    {
      "cell_type": "code",
      "execution_count": null,
      "metadata": {
        "id": "tW2J8QONjcBT",
        "colab": {
          "base_uri": "https://localhost:8080/"
        },
        "outputId": "a76a5688-0ec6-4b9d-d353-7015424da470"
      },
      "outputs": [
        {
          "output_type": "stream",
          "name": "stdout",
          "text": [
            "(1, 5, 4)\n"
          ]
        }
      ],
      "source": [
        "print (np.unravel_index(100, (6,7,8)))"
      ]
    },
    {
      "cell_type": "markdown",
      "metadata": {
        "id": "Lho2GBSUjcBU"
      },
      "source": [
        "#### 21. Create a checkerboard 8x8 matrix using the tile function (★☆☆) \n",
        "(**hint**: np.tile)"
      ]
    },
    {
      "cell_type": "code",
      "execution_count": null,
      "metadata": {
        "id": "FsXQDv2ejcBU",
        "colab": {
          "base_uri": "https://localhost:8080/"
        },
        "outputId": "3e115c43-6796-459f-f281-39a140c06f2c"
      },
      "outputs": [
        {
          "output_type": "stream",
          "name": "stdout",
          "text": [
            "[[0 1 0 1 0 1 0 1]\n",
            " [1 0 1 0 1 0 1 0]\n",
            " [0 1 0 1 0 1 0 1]\n",
            " [1 0 1 0 1 0 1 0]\n",
            " [0 1 0 1 0 1 0 1]\n",
            " [1 0 1 0 1 0 1 0]\n",
            " [0 1 0 1 0 1 0 1]\n",
            " [1 0 1 0 1 0 1 0]]\n"
          ]
        }
      ],
      "source": [
        "x= np.array([[0,1], [1,0]])\n",
        "y = np.tile(x,(4,4))\n",
        "print(y)"
      ]
    },
    {
      "cell_type": "markdown",
      "metadata": {
        "id": "hqUWwJorjcBV"
      },
      "source": [
        "#### 22. Normalize a 5x5 random matrix (★☆☆) \n",
        "(**hint**: (x - min) / (max - min))"
      ]
    },
    {
      "cell_type": "code",
      "execution_count": null,
      "metadata": {
        "id": "C9H_Y0ZpjcBW",
        "colab": {
          "base_uri": "https://localhost:8080/"
        },
        "outputId": "5af2b3a4-75af-44b1-d849-7a540be84d07"
      },
      "outputs": [
        {
          "output_type": "stream",
          "name": "stdout",
          "text": [
            "[[0.93930627 0.06858066 0.27854741 0.97314172 0.08322683]\n",
            " [0.75509642 0.21556458 0.88001181 0.31337551 1.        ]\n",
            " [0.49655707 0.65064334 0.18383707 0.02490102 0.78891242]\n",
            " [0.58528365 0.53611622 0.07778773 0.4177568  0.58910911]\n",
            " [0.72352908 0.3677932  0.257412   0.         0.91162538]]\n"
          ]
        }
      ],
      "source": [
        "x = np.random.random((5,5))\n",
        "xmax, xmin = x.max(), x.min()\n",
        "x= (x-xmin)/(xmax-xmin)\n",
        "print (x)"
      ]
    },
    {
      "cell_type": "markdown",
      "metadata": {
        "id": "MZcFfkQHjcBW"
      },
      "source": [
        "#### 23. Create a custom dtype that describes a color as four unsigned bytes (RGBA) (★☆☆) \n",
        "(**hint**: np.dtype)"
      ]
    },
    {
      "cell_type": "code",
      "execution_count": null,
      "metadata": {
        "collapsed": true,
        "id": "YHChXxkOjcBX",
        "colab": {
          "base_uri": "https://localhost:8080/"
        },
        "outputId": "05051cd6-a0a7-4d6b-dc11-a00e461cb295"
      },
      "outputs": [
        {
          "output_type": "stream",
          "name": "stdout",
          "text": [
            "(1, 2, 4, 3)\n"
          ]
        },
        {
          "output_type": "execute_result",
          "data": {
            "text/plain": [
              "numpy.ndarray"
            ]
          },
          "metadata": {},
          "execution_count": 27
        }
      ],
      "source": [
        "RGBA = np.dtype([('red',np.uint8),('green',np.uint8),('blue',np.uint8),('alpha',np.uint8)])\n",
        "color = np.array((1,2,4,3),dtype = RGBA)\n",
        "print(color)\n",
        "type(color)"
      ]
    },
    {
      "cell_type": "markdown",
      "metadata": {
        "id": "l10P4A20jcBX"
      },
      "source": [
        "#### 24. Multiply a 5x3 matrix by a 3x2 matrix (real matrix product) (★☆☆) \n",
        "(**hint**: np.dot | @)"
      ]
    },
    {
      "cell_type": "code",
      "execution_count": null,
      "metadata": {
        "id": "hIQc3LvEjcBX",
        "colab": {
          "base_uri": "https://localhost:8080/"
        },
        "outputId": "3fea292b-e89c-4e79-c998-b1bdafeef27c"
      },
      "outputs": [
        {
          "output_type": "stream",
          "name": "stdout",
          "text": [
            "[[1.03356519 1.10737485]\n",
            " [0.45907224 0.38109195]\n",
            " [0.27908679 0.6565137 ]\n",
            " [0.64862206 0.89843802]\n",
            " [0.25076159 0.50509888]]\n"
          ]
        }
      ],
      "source": [
        "x = np.random.random((5,3))\n",
        "y = np.random.random((3,2))\n",
        "print(x @ y)"
      ]
    },
    {
      "cell_type": "markdown",
      "metadata": {
        "id": "rb8YeYYujcBX"
      },
      "source": [
        "#### 25. Given a 1D array, negate all elements which are between 3 and 8, in place. (★☆☆) \n",
        "(**hint**: >, <=)"
      ]
    },
    {
      "cell_type": "code",
      "execution_count": null,
      "metadata": {
        "id": "yaWgnTRjjcBY",
        "colab": {
          "base_uri": "https://localhost:8080/"
        },
        "outputId": "b8ceeba4-716a-4295-ee5a-0e266126e407"
      },
      "outputs": [
        {
          "output_type": "stream",
          "name": "stdout",
          "text": [
            "[ 0  1  2 -3 -4 -5 -6 -7 -8  9]\n"
          ]
        }
      ],
      "source": [
        "x = np.arange(10)\n",
        "x[(x>=3) & (x<=8)]*=(-1)\n",
        "print(x)"
      ]
    },
    {
      "cell_type": "markdown",
      "metadata": {
        "id": "JSy-YtbYjcBY"
      },
      "source": [
        "#### 26. What is the output of the following script? (★☆☆) \n",
        "(**hint**: np.sum)"
      ]
    },
    {
      "cell_type": "markdown",
      "metadata": {
        "id": "WxTbA2SLjcBY"
      },
      "source": [
        "```python\n",
        "# Author: Jake VanderPlas\n",
        "\n",
        "print(sum(range(5),-1))\n",
        "from numpy import *\n",
        "print(sum(range(5),-1))\n",
        "```"
      ]
    },
    {
      "cell_type": "code",
      "execution_count": null,
      "metadata": {
        "id": "TUpoOh8EjcBY",
        "colab": {
          "base_uri": "https://localhost:8080/"
        },
        "outputId": "af983e79-dc33-4f8a-84bc-0634f1b55454"
      },
      "outputs": [
        {
          "output_type": "stream",
          "name": "stdout",
          "text": [
            "9\n",
            "10\n"
          ]
        }
      ],
      "source": [
        "print(sum(range(5),-1))\n",
        "from numpy import *\n",
        "print(sum(range(5),-1))"
      ]
    },
    {
      "cell_type": "markdown",
      "metadata": {
        "id": "RWdswEO1jcBZ"
      },
      "source": [
        "#### 27. Consider an integer vector Z, which of these expressions are legal? (★☆☆)"
      ]
    },
    {
      "cell_type": "markdown",
      "metadata": {
        "id": "Cg6jhHCcjcBZ"
      },
      "source": [
        "```python\n",
        "Z**Z\n",
        "2 << Z >> 2\n",
        "Z <- Z\n",
        "1j*Z\n",
        "Z/1/1\n",
        "Z<Z>Z\n",
        "```"
      ]
    },
    {
      "cell_type": "code",
      "execution_count": null,
      "metadata": {
        "id": "ayAPuN8hjcBZ"
      },
      "outputs": [],
      "source": [
        "#below are legel\n",
        "#Z**Z\n",
        "#2 << Z >> 2\n",
        "#Z <- Z"
      ]
    },
    {
      "cell_type": "markdown",
      "metadata": {
        "id": "0yexOT3djcBZ"
      },
      "source": [
        "#### 28. What are the result of the following expressions?"
      ]
    },
    {
      "cell_type": "markdown",
      "metadata": {
        "id": "jOcY23CUjcBa"
      },
      "source": [
        "```python\n",
        "np.array(0) / np.array(0)\n",
        "np.array(0) // np.array(0)\n",
        "np.array([np.nan]).astype(int).astype(float)\n",
        "```"
      ]
    },
    {
      "cell_type": "code",
      "execution_count": null,
      "metadata": {
        "id": "AelspKafjcBa",
        "colab": {
          "base_uri": "https://localhost:8080/"
        },
        "outputId": "8524fff9-005a-4ecd-b45c-689c9d707158"
      },
      "outputs": [
        {
          "output_type": "stream",
          "name": "stderr",
          "text": [
            "/usr/local/lib/python3.7/dist-packages/ipykernel_launcher.py:1: RuntimeWarning: invalid value encountered in true_divide\n",
            "  \"\"\"Entry point for launching an IPython kernel.\n",
            "/usr/local/lib/python3.7/dist-packages/ipykernel_launcher.py:2: RuntimeWarning: divide by zero encountered in floor_divide\n",
            "  \n"
          ]
        },
        {
          "output_type": "execute_result",
          "data": {
            "text/plain": [
              "array([-9.22337204e+18])"
            ]
          },
          "metadata": {},
          "execution_count": 32
        }
      ],
      "source": [
        "np.array(0) / np.array(0)\n",
        "np.array(0) // np.array(0)\n",
        "np.array([np.nan]).astype(int).astype(float)"
      ]
    },
    {
      "cell_type": "markdown",
      "metadata": {
        "id": "V3qaUcLSjcBa"
      },
      "source": [
        "#### 29. How to round away from zero a float array ? (★☆☆) \n",
        "(**hint**: np.uniform, np.copysign, np.ceil, np.abs)"
      ]
    },
    {
      "cell_type": "code",
      "execution_count": null,
      "metadata": {
        "id": "oFk97usEjcBa",
        "colab": {
          "base_uri": "https://localhost:8080/"
        },
        "outputId": "135e83be-94cc-4240-ea05-766ab8424616"
      },
      "outputs": [
        {
          "output_type": "stream",
          "name": "stdout",
          "text": [
            "[[0.92561483 0.68783216 0.34716531 0.24871571 0.27099849]\n",
            " [0.27798016 0.71147204 0.37592907 0.63047058 0.719068  ]\n",
            " [0.14201185 0.39528467 0.38985282 0.57227802 0.40657804]\n",
            " [0.08033069 0.23886423 0.36272361 0.80722218 0.53788772]\n",
            " [0.14011762 0.27417598 0.56379575 0.38532311 0.47155307]]\n",
            "[[0.93 0.69 0.35 0.25 0.27]\n",
            " [0.28 0.71 0.38 0.63 0.72]\n",
            " [0.14 0.4  0.39 0.57 0.41]\n",
            " [0.08 0.24 0.36 0.81 0.54]\n",
            " [0.14 0.27 0.56 0.39 0.47]]\n"
          ]
        }
      ],
      "source": [
        "x = np.random.random((5,5))\n",
        "print(x)\n",
        "x = np.round(x,2)\n",
        "print(x)"
      ]
    },
    {
      "cell_type": "markdown",
      "metadata": {
        "id": "9XfFqGYtjcBb"
      },
      "source": [
        "#### 30. How to find common values between two arrays? (★☆☆) \n",
        "(**hint**: np.intersect1d)"
      ]
    },
    {
      "cell_type": "code",
      "execution_count": null,
      "metadata": {
        "id": "jNgg8vp3jcBb",
        "colab": {
          "base_uri": "https://localhost:8080/"
        },
        "outputId": "9d5d7f86-6b65-46e5-e082-0634f3605db3"
      },
      "outputs": [
        {
          "output_type": "stream",
          "name": "stdout",
          "text": [
            "[0 1 2 4]\n"
          ]
        }
      ],
      "source": [
        "x = np.array([0, 1, 2, 3, 4, 5]) \n",
        "y = np.array([0, 1, 2, 4])\n",
        "print(np.intersect1d(x, y))"
      ]
    },
    {
      "cell_type": "markdown",
      "metadata": {
        "id": "nkVnbAIfjcBb"
      },
      "source": [
        "#### 31. How to ignore all numpy warnings (not recommended)? (★☆☆) \n",
        "(**hint**: np.seterr, np.errstate)"
      ]
    },
    {
      "cell_type": "code",
      "execution_count": null,
      "metadata": {
        "id": "tiC6VBLdjcBc"
      },
      "outputs": [],
      "source": [
        "# defaults = np.seterr(all=\"ignore\")\n",
        "# Z = np.ones(1) / 0\n",
        "\n",
        "# _ = np.seterr(**defaults)\n",
        "\n",
        "# with np.errstate(divide='ignore'):\n",
        "#     Z = np.ones(1) / 0"
      ]
    },
    {
      "cell_type": "markdown",
      "metadata": {
        "id": "7E4Ef6vBjcBc"
      },
      "source": [
        "#### 32. Is the following expressions true? (★☆☆) \n",
        "(**hint**: imaginary number)"
      ]
    },
    {
      "cell_type": "markdown",
      "metadata": {
        "id": "onYNAs8kjcBc"
      },
      "source": [
        "```python\n",
        "np.sqrt(-1) == np.emath.sqrt(-1)\n",
        "```"
      ]
    },
    {
      "cell_type": "code",
      "execution_count": null,
      "metadata": {
        "id": "KsqIrAICjcBc"
      },
      "outputs": [],
      "source": [
        "#False"
      ]
    },
    {
      "cell_type": "markdown",
      "metadata": {
        "id": "Nhw08B-3jcBc"
      },
      "source": [
        "#### 33. How to get the dates of yesterday, today and tomorrow? (★☆☆) \n",
        "(**hint**: np.datetime64, np.timedelta64)"
      ]
    },
    {
      "cell_type": "code",
      "execution_count": null,
      "metadata": {
        "collapsed": true,
        "id": "6Z6eKTHljcBd",
        "colab": {
          "base_uri": "https://localhost:8080/"
        },
        "outputId": "c073af22-15f5-4aff-85bf-2cb1114a0aba"
      },
      "outputs": [
        {
          "output_type": "stream",
          "name": "stdout",
          "text": [
            "\n",
            " 2022-09-15 \n",
            " 2022-09-16 \n",
            " 2022-09-17\n"
          ]
        }
      ],
      "source": [
        "yesterday = np.datetime64('today', 'D') - np.timedelta64(1, 'D')\n",
        "today     = np.datetime64('today', 'D')\n",
        "tomorrow  = np.datetime64('today', 'D') + np.timedelta64(1, 'D')\n",
        "print('\\n',yesterday,'\\n',today,'\\n',tomorrow)"
      ]
    },
    {
      "cell_type": "markdown",
      "metadata": {
        "id": "D67n2-5fjcBd"
      },
      "source": [
        "#### 34. How to get all the dates corresponding to the month of July 2016? (★★☆) \n",
        "(**hint**: np.arange(dtype=datetime64\\['D'\\]))"
      ]
    },
    {
      "cell_type": "code",
      "execution_count": null,
      "metadata": {
        "id": "rdJ1Qm9QjcBd",
        "colab": {
          "base_uri": "https://localhost:8080/"
        },
        "outputId": "e8664ace-e4ac-4126-e0ef-dccbf734743d"
      },
      "outputs": [
        {
          "output_type": "stream",
          "name": "stdout",
          "text": [
            "['2016-07-01' '2016-07-02' '2016-07-03' '2016-07-04' '2016-07-05'\n",
            " '2016-07-06' '2016-07-07' '2016-07-08' '2016-07-09' '2016-07-10'\n",
            " '2016-07-11' '2016-07-12' '2016-07-13' '2016-07-14' '2016-07-15'\n",
            " '2016-07-16' '2016-07-17' '2016-07-18' '2016-07-19' '2016-07-20'\n",
            " '2016-07-21' '2016-07-22' '2016-07-23' '2016-07-24' '2016-07-25'\n",
            " '2016-07-26' '2016-07-27' '2016-07-28' '2016-07-29' '2016-07-30'\n",
            " '2016-07-31']\n"
          ]
        }
      ],
      "source": [
        "x = np.arange('2016-07', '2016-08', dtype='datetime64[D]')\n",
        "print(x)"
      ]
    },
    {
      "cell_type": "markdown",
      "metadata": {
        "id": "GtepbpBIjcBd"
      },
      "source": [
        "#### 35. How to compute ((A+B)\\*(-A/2)) in place (without copy)? (★★☆) \n",
        "(**hint**: np.add(out=), np.negative(out=), np.multiply(out=), np.divide(out=))"
      ]
    },
    {
      "cell_type": "code",
      "execution_count": null,
      "metadata": {
        "id": "yP8hjLqtjcBe",
        "colab": {
          "base_uri": "https://localhost:8080/"
        },
        "outputId": "a5f21b5f-7d48-4658-92dd-e8429d28f6b9"
      },
      "outputs": [
        {
          "output_type": "execute_result",
          "data": {
            "text/plain": [
              "-4.5"
            ]
          },
          "metadata": {},
          "execution_count": 7
        }
      ],
      "source": [
        "A = np.ones(3)*1\n",
        "B = np.ones(3)*2\n",
        "C = np.ones(3)*3\n",
        "np.add(A,B,out=B)\n",
        "np.divide(A,2,out=A)\n",
        "np.negative(A,out=A)\n",
        "np.dot(A,B)"
      ]
    },
    {
      "cell_type": "markdown",
      "metadata": {
        "id": "9mciAp-1jcBe"
      },
      "source": [
        "#### 36. Extract the integer part of a random array using 5 different methods (★★☆) \n",
        "(**hint**: %, np.floor, np.ceil, astype, np.trunc)"
      ]
    },
    {
      "cell_type": "code",
      "execution_count": null,
      "metadata": {
        "id": "zA098aiujcBe",
        "colab": {
          "base_uri": "https://localhost:8080/"
        },
        "outputId": "2a07b29d-7cf1-4d8b-92f3-bf017d29dbbd"
      },
      "outputs": [
        {
          "output_type": "stream",
          "name": "stdout",
          "text": [
            "[0. 0. 8. 4. 1. 0. 3. 2. 0. 2.]\n",
            "[0. 0. 8. 4. 1. 0. 3. 2. 0. 2.]\n",
            "[0. 0. 8. 4. 1. 0. 3. 2. 0. 2.]\n",
            "[0 0 8 4 1 0 3 2 0 2]\n",
            "[0. 0. 8. 4. 1. 0. 3. 2. 0. 2.]\n"
          ]
        }
      ],
      "source": [
        "x = np.random.uniform(0,10,10)\n",
        "\n",
        "print (x - x%1)\n",
        "print (np.floor(x))\n",
        "print (np.ceil(x)-1)\n",
        "print (x.astype(int))\n",
        "print(np.trunc(x))"
      ]
    },
    {
      "cell_type": "markdown",
      "metadata": {
        "id": "FK5Wv-UKjcBe"
      },
      "source": [
        "#### 37. Create a 5x5 matrix with row values ranging from 0 to 4 (★★☆) \n",
        "(**hint**: np.arange)"
      ]
    },
    {
      "cell_type": "code",
      "execution_count": null,
      "metadata": {
        "id": "heVOM0PDjcBe",
        "colab": {
          "base_uri": "https://localhost:8080/"
        },
        "outputId": "718c26da-2f5d-440c-f974-a60d3a24590f"
      },
      "outputs": [
        {
          "output_type": "stream",
          "name": "stdout",
          "text": [
            "[[0. 1. 2. 3. 4.]\n",
            " [0. 1. 2. 3. 4.]\n",
            " [0. 1. 2. 3. 4.]\n",
            " [0. 1. 2. 3. 4.]\n",
            " [0. 1. 2. 3. 4.]]\n"
          ]
        }
      ],
      "source": [
        "x = np.zeros((5,5))\n",
        "x += np.arange(5)\n",
        "print(x)"
      ]
    },
    {
      "cell_type": "markdown",
      "metadata": {
        "id": "MUAiF5M0jcBf"
      },
      "source": [
        "#### 38. Consider a generator function that generates 10 integers and use it to build an array (★☆☆) \n",
        "(**hint**: np.fromiter)"
      ]
    },
    {
      "cell_type": "code",
      "execution_count": null,
      "metadata": {
        "id": "Ai0Dav4WjcBf",
        "colab": {
          "base_uri": "https://localhost:8080/"
        },
        "outputId": "64eb16de-d92d-47c4-90fc-6f623cbd89f3"
      },
      "outputs": [
        {
          "output_type": "stream",
          "name": "stdout",
          "text": [
            "[0. 1. 2. 3. 4. 5. 6. 7. 8. 9.]\n"
          ]
        }
      ],
      "source": [
        "def generate():\n",
        "    for x in range(10):\n",
        "        yield x\n",
        "x = np.fromiter(generate(),dtype=float,count=-1)\n",
        "print(x)"
      ]
    },
    {
      "cell_type": "markdown",
      "metadata": {
        "id": "R40TjMeBjcBg"
      },
      "source": [
        "#### 39. Create a vector of size 10 with values ranging from 0 to 1, both excluded (★★☆) \n",
        "(**hint**: np.linspace)"
      ]
    },
    {
      "cell_type": "code",
      "execution_count": null,
      "metadata": {
        "id": "_sasScV3jcBh",
        "colab": {
          "base_uri": "https://localhost:8080/"
        },
        "outputId": "5503f940-7ad5-433f-ff73-0f44cc97d6e8"
      },
      "outputs": [
        {
          "output_type": "stream",
          "name": "stdout",
          "text": [
            "[0.09090909 0.18181818 0.27272727 0.36363636 0.45454545 0.54545455\n",
            " 0.63636364 0.72727273 0.81818182 0.90909091]\n"
          ]
        }
      ],
      "source": [
        "x = np.linspace(0,1,11,endpoint=False)[1:]\n",
        "print(x)"
      ]
    },
    {
      "cell_type": "markdown",
      "metadata": {
        "id": "Zz9nqU9BjcBi"
      },
      "source": [
        "#### 40. Create a random vector of size 10 and sort it (★★☆) \n",
        "(**hint**: sort)"
      ]
    },
    {
      "cell_type": "code",
      "execution_count": null,
      "metadata": {
        "id": "UGifx0GAjcBi",
        "colab": {
          "base_uri": "https://localhost:8080/"
        },
        "outputId": "7cdeaee4-4a3b-4905-e9c3-0776904fcfb4"
      },
      "outputs": [
        {
          "output_type": "stream",
          "name": "stdout",
          "text": [
            "[0.06554137 0.07547866 0.25300842 0.31819827 0.64441538 0.68380593\n",
            " 0.70248231 0.72538487 0.81009984 0.84099723]\n"
          ]
        }
      ],
      "source": [
        "x = np.random.random(10)\n",
        "x.sort()\n",
        "print(x)"
      ]
    },
    {
      "cell_type": "markdown",
      "metadata": {
        "id": "yiRgioCnjcBi"
      },
      "source": [
        "#### 41. How to sum a small array faster than np.sum? (★★☆) \n",
        "(**hint**: np.add.reduce)"
      ]
    },
    {
      "cell_type": "code",
      "execution_count": null,
      "metadata": {
        "id": "FK7r29-YjcBi",
        "colab": {
          "base_uri": "https://localhost:8080/"
        },
        "outputId": "373debe5-b27e-429b-8a2c-02c73f544447"
      },
      "outputs": [
        {
          "output_type": "execute_result",
          "data": {
            "text/plain": [
              "45"
            ]
          },
          "metadata": {},
          "execution_count": 5
        }
      ],
      "source": [
        "x = np.arange(10)\n",
        "np.add.reduce(x)"
      ]
    },
    {
      "cell_type": "markdown",
      "metadata": {
        "id": "Bg2qCxybjcBp"
      },
      "source": [
        "#### 42. Consider two random array A and B, check if they are equal (★★☆) \n",
        "(**hint**: np.allclose, np.array\\_equal)"
      ]
    },
    {
      "cell_type": "code",
      "execution_count": null,
      "metadata": {
        "id": "LFji1c-PjcBp",
        "colab": {
          "base_uri": "https://localhost:8080/"
        },
        "outputId": "9c9c7cb5-fd0c-47eb-c8aa-fd3bb07a8373"
      },
      "outputs": [
        {
          "output_type": "stream",
          "name": "stdout",
          "text": [
            "False\n",
            "False\n"
          ]
        }
      ],
      "source": [
        "A = np.random.randint(0,3,6)\n",
        "B = np.random.randint(0,3,6)\n",
        "equal = np.allclose(A,B)\n",
        "print(equal)\n",
        "equal1 = np.array_equal(A,B)\n",
        "print(equal1)"
      ]
    },
    {
      "cell_type": "markdown",
      "metadata": {
        "id": "N3OiPHAqjcBp"
      },
      "source": [
        "#### 43. Make an array immutable (read-only) (★★☆) \n",
        "(**hint**: flags.writeable)"
      ]
    },
    {
      "cell_type": "code",
      "execution_count": null,
      "metadata": {
        "id": "L3SQH3mCjcBq"
      },
      "outputs": [],
      "source": [
        "x = np.zeros(10)\n",
        "x.flags.writeable = False"
      ]
    },
    {
      "cell_type": "markdown",
      "metadata": {
        "id": "pBU8nJkyjcBq"
      },
      "source": [
        "#### 44. Consider a random 10x2 matrix representing cartesian coordinates, convert them to polar coordinates (★★☆) \n",
        "(**hint**: np.sqrt, np.arctan2)"
      ]
    },
    {
      "cell_type": "code",
      "execution_count": null,
      "metadata": {
        "id": "Ypa4J797jcBq",
        "colab": {
          "base_uri": "https://localhost:8080/"
        },
        "outputId": "33f1ea70-e613-4269-ff58-0c50bc7c2cc2"
      },
      "outputs": [
        {
          "output_type": "stream",
          "name": "stdout",
          "text": [
            "[0.54240308 1.10006067 1.15165781 0.80491758 0.56762297 0.71094542\n",
            " 0.59613398 0.9224566  0.67810658 0.92376879]\n",
            "[0.93120387 0.54586426 0.64161731 1.37039726 1.40711421 1.03777586\n",
            " 1.43359747 1.53023554 0.29097259 1.30142395]\n"
          ]
        }
      ],
      "source": [
        "x = np.random.random((10,2))\n",
        "a,b = x[:,0], x[:,1]\n",
        "R = np.sqrt(a**2+b**2)\n",
        "T = np.arctan2(b,a)\n",
        "print(R)\n",
        "print(T)"
      ]
    },
    {
      "cell_type": "markdown",
      "metadata": {
        "id": "d_z_JKT-jcBr"
      },
      "source": [
        "#### 45. Create random vector of size 10 and replace the maximum value by 0 (★★☆) \n",
        "(**hint**: argmax)"
      ]
    },
    {
      "cell_type": "code",
      "execution_count": null,
      "metadata": {
        "id": "FKdMgJmVjcBr",
        "colab": {
          "base_uri": "https://localhost:8080/"
        },
        "outputId": "c144fe45-f661-44e0-cd36-105a1cd5521d"
      },
      "outputs": [
        {
          "output_type": "stream",
          "name": "stdout",
          "text": [
            "[0.45957809 0.64245684 0.05363088 0.2525552  0.79167136 0.19539611\n",
            " 0.05059907 0.28115743 0.         0.32687592]\n"
          ]
        }
      ],
      "source": [
        "x = np.random.random(10)\n",
        "x[x.argmax()] = 0\n",
        "print(x)"
      ]
    },
    {
      "cell_type": "markdown",
      "metadata": {
        "id": "iWCWF2cJjcBr"
      },
      "source": [
        "#### 46. Create a structured array with `x` and `y` coordinates covering the \\[0,1\\]x\\[0,1\\] area (★★☆) \n",
        "(**hint**: np.meshgrid)"
      ]
    },
    {
      "cell_type": "code",
      "execution_count": null,
      "metadata": {
        "id": "HFAdXn0cjcBs",
        "colab": {
          "base_uri": "https://localhost:8080/"
        },
        "outputId": "53b064af-38ca-473a-be3f-63697566edd9"
      },
      "outputs": [
        {
          "output_type": "stream",
          "name": "stdout",
          "text": [
            "[[(0.  , 0.  ) (0.25, 0.  ) (0.5 , 0.  ) (0.75, 0.  ) (1.  , 0.  )]\n",
            " [(0.  , 0.25) (0.25, 0.25) (0.5 , 0.25) (0.75, 0.25) (1.  , 0.25)]\n",
            " [(0.  , 0.5 ) (0.25, 0.5 ) (0.5 , 0.5 ) (0.75, 0.5 ) (1.  , 0.5 )]\n",
            " [(0.  , 0.75) (0.25, 0.75) (0.5 , 0.75) (0.75, 0.75) (1.  , 0.75)]\n",
            " [(0.  , 1.  ) (0.25, 1.  ) (0.5 , 1.  ) (0.75, 1.  ) (1.  , 1.  )]]\n"
          ]
        }
      ],
      "source": [
        "x = np.zeros((5,5), [('x',float),('y',float)])\n",
        "x['x'], x['y'] = np.meshgrid(np.linspace(0,1,5),\n",
        "                             np.linspace(0,1,5))\n",
        "print(x)"
      ]
    },
    {
      "cell_type": "markdown",
      "metadata": {
        "id": "IfLGI7VCjcBs"
      },
      "source": [
        "####  47. Given two arrays, X and Y, construct the Cauchy matrix C (Cij =1/(xi - yj)) \n",
        "(**hint**: np.subtract.outer)"
      ]
    },
    {
      "cell_type": "code",
      "execution_count": null,
      "metadata": {
        "id": "lf7QvhVHjcBt",
        "colab": {
          "base_uri": "https://localhost:8080/"
        },
        "outputId": "485eae06-b88a-43a5-b6eb-51e6f037ba4d"
      },
      "outputs": [
        {
          "output_type": "stream",
          "name": "stdout",
          "text": [
            "3638.163637117973\n"
          ]
        }
      ],
      "source": [
        "x = np.arange(8)\n",
        "y = x + 0.5\n",
        "c = 1.0 / np.subtract.outer(x, y)\n",
        "print(np.linalg.det(c))"
      ]
    },
    {
      "cell_type": "markdown",
      "metadata": {
        "id": "fqmYyN1IjcBt"
      },
      "source": [
        "#### 48. Print the minimum and maximum representable value for each numpy scalar type (★★☆) \n",
        "(**hint**: np.iinfo, np.finfo, eps)"
      ]
    },
    {
      "cell_type": "code",
      "execution_count": null,
      "metadata": {
        "id": "3P2LoANJjcBt",
        "colab": {
          "base_uri": "https://localhost:8080/"
        },
        "outputId": "237683ea-8a74-46f7-f0bd-553552e27211"
      },
      "outputs": [
        {
          "output_type": "stream",
          "name": "stdout",
          "text": [
            "-128\n",
            "127\n",
            "-2147483648\n",
            "2147483647\n",
            "-9223372036854775808\n",
            "9223372036854775807\n",
            "-3.4028235e+38\n",
            "3.4028235e+38\n",
            "1.1920929e-07\n",
            "-1.7976931348623157e+308\n",
            "1.7976931348623157e+308\n",
            "2.220446049250313e-16\n"
          ]
        }
      ],
      "source": [
        "for dtype in [np.int8, np.int32, np.int64]:\n",
        "    print(np.iinfo(dtype).min)\n",
        "    print(np.iinfo(dtype).max)\n",
        "for dtype in [np.float32, np.float64]:\n",
        "    print(np.finfo(dtype).min)\n",
        "    print(np.finfo(dtype).max)\n",
        "    print(np.finfo(dtype).eps)"
      ]
    },
    {
      "cell_type": "markdown",
      "metadata": {
        "id": "g7kXM5QAjcBu"
      },
      "source": [
        "#### 49. How to print all the values of an array? (★★☆) \n",
        "(**hint**: np.set\\_printoptions)"
      ]
    },
    {
      "cell_type": "code",
      "execution_count": null,
      "metadata": {
        "id": "60GQTYrOjcBu"
      },
      "outputs": [],
      "source": []
    },
    {
      "cell_type": "markdown",
      "metadata": {
        "id": "DO8OwG6cjcBu"
      },
      "source": [
        "#### 50. How to find the closest value (to a given scalar) in a vector? (★★☆) \n",
        "(**hint**: argmin)"
      ]
    },
    {
      "cell_type": "code",
      "execution_count": null,
      "metadata": {
        "id": "4XjAW1yEjcBv",
        "colab": {
          "base_uri": "https://localhost:8080/"
        },
        "outputId": "1e910431-54f2-4682-812e-416b2e63462a"
      },
      "outputs": [
        {
          "output_type": "stream",
          "name": "stdout",
          "text": [
            "17\n"
          ]
        }
      ],
      "source": [
        "z = np.arange(100)\n",
        "a = np.random.uniform(0,100)\n",
        "index = (np.abs(z-a)).argmin()\n",
        "print(z[index])"
      ]
    },
    {
      "cell_type": "markdown",
      "metadata": {
        "id": "ssTz6HqVjcBv"
      },
      "source": [
        "#### 51. Create a structured array representing a position (x,y) and a color (r,g,b) (★★☆) \n",
        "(**hint**: dtype)"
      ]
    },
    {
      "cell_type": "code",
      "execution_count": null,
      "metadata": {
        "id": "HOU2fUhajcBv",
        "colab": {
          "base_uri": "https://localhost:8080/"
        },
        "outputId": "5ac5c2e8-4939-461f-e50d-50589b2315f6"
      },
      "outputs": [
        {
          "output_type": "stream",
          "name": "stdout",
          "text": [
            "[((0., 0.), (0., 0., 0.)) ((0., 0.), (0., 0., 0.))\n",
            " ((0., 0.), (0., 0., 0.)) ((0., 0.), (0., 0., 0.))\n",
            " ((0., 0.), (0., 0., 0.)) ((0., 0.), (0., 0., 0.))\n",
            " ((0., 0.), (0., 0., 0.)) ((0., 0.), (0., 0., 0.))\n",
            " ((0., 0.), (0., 0., 0.)) ((0., 0.), (0., 0., 0.))]\n"
          ]
        },
        {
          "output_type": "stream",
          "name": "stderr",
          "text": [
            "/usr/local/lib/python3.7/dist-packages/ipykernel_launcher.py:5: FutureWarning: Passing (type, 1) or '1type' as a synonym of type is deprecated; in a future version of numpy, it will be understood as (type, (1,)) / '(1,)type'.\n",
            "  \"\"\"\n"
          ]
        }
      ],
      "source": [
        "x = np.zeros(10, [ ('position', [ ('x', float, 1),\n",
        "                                  ('y', float, 1)]),\n",
        "                   ('color',    [ ('r', float, 1),\n",
        "                                  ('g', float, 1),\n",
        "                                  ('b', float, 1)])])\n",
        "print(x)"
      ]
    },
    {
      "cell_type": "markdown",
      "metadata": {
        "id": "_YOlFE2sjcBw"
      },
      "source": [
        "#### 52. Consider a random vector with shape (100,2) representing coordinates, find point by point distances (★★☆) \n",
        "(**hint**: np.atleast\\_2d, T, np.sqrt)"
      ]
    },
    {
      "cell_type": "code",
      "execution_count": null,
      "metadata": {
        "id": "G-D6TDY0jcBw",
        "colab": {
          "base_uri": "https://localhost:8080/"
        },
        "outputId": "c1c2108e-ea86-44c0-e625-e58cfd3031a1"
      },
      "outputs": [
        {
          "output_type": "stream",
          "name": "stdout",
          "text": [
            "[[0.         0.84413098 0.15266939 0.47279102 0.29266784 0.70331611\n",
            "  0.23443096 0.47495669 0.25766001 0.16282661]\n",
            " [0.84413098 0.         0.9468986  0.77145357 0.58480935 0.40277992\n",
            "  1.04616381 0.85343428 0.77762773 0.86725421]\n",
            " [0.15266939 0.9468986  0.         0.62235796 0.43272299 0.74573772\n",
            "  0.09926554 0.40391067 0.40706164 0.097613  ]\n",
            " [0.47279102 0.77145357 0.62235796 0.         0.32240288 0.86816742\n",
            "  0.68532107 0.8893014  0.21537248 0.62627817]\n",
            " [0.29266784 0.58480935 0.43272299 0.32240288 0.         0.56644658\n",
            "  0.52437893 0.58917635 0.20783098 0.39103601]\n",
            " [0.70331611 0.40277992 0.74573772 0.86816742 0.56644658 0.\n",
            "  0.83731787 0.51011573 0.76874446 0.64969875]\n",
            " [0.23443096 1.04616381 0.09926554 0.68532107 0.52437893 0.83731787\n",
            "  0.         0.45556893 0.47297168 0.1884104 ]\n",
            " [0.47495669 0.85343428 0.40391067 0.8893014  0.58917635 0.51011573\n",
            "  0.45556893 0.         0.69481858 0.32388881]\n",
            " [0.25766001 0.77762773 0.40706164 0.21537248 0.20783098 0.76874446\n",
            "  0.47297168 0.69481858 0.         0.41387628]\n",
            " [0.16282661 0.86725421 0.097613   0.62627817 0.39103601 0.64969875\n",
            "  0.1884104  0.32388881 0.41387628 0.        ]]\n"
          ]
        }
      ],
      "source": [
        "A = np.random.random((10,2))\n",
        "X,Y = np.atleast_2d(A[:,0], A[:,1])\n",
        "Dist = np.sqrt( (X-X.T)**2 + (Y-Y.T)**2)\n",
        "print(Dist)"
      ]
    },
    {
      "cell_type": "markdown",
      "metadata": {
        "id": "z-pFNmazjcBx"
      },
      "source": [
        "#### 53. How to convert a float (32 bits) array into an integer (32 bits) in place? \n",
        "(**hint**: astype(copy=False))"
      ]
    },
    {
      "cell_type": "code",
      "execution_count": null,
      "metadata": {
        "id": "vB0tAFgzjcBx",
        "colab": {
          "base_uri": "https://localhost:8080/"
        },
        "outputId": "6008e202-64aa-4242-fed8-79410edbfc2f"
      },
      "outputs": [
        {
          "output_type": "stream",
          "name": "stdout",
          "text": [
            "[0. 1. 2. 3. 4. 5. 6. 7. 8. 9.]\n"
          ]
        }
      ],
      "source": [
        "x = np.arange(10, dtype=np.int32)\n",
        "x = x.astype(np.float32, copy=False)\n",
        "print(x)"
      ]
    },
    {
      "cell_type": "markdown",
      "metadata": {
        "id": "jE8eEOdvjcBx"
      },
      "source": [
        "#### 54. How to read the following file? (★★☆) \n",
        "(**hint**: np.genfromtxt)"
      ]
    },
    {
      "cell_type": "markdown",
      "metadata": {
        "id": "qZe9Th9xjcBy"
      },
      "source": [
        "```\n",
        "1, 2, 3, 4, 5\n",
        "6,  ,  , 7, 8\n",
        " ,  , 9,10,11\n",
        "```"
      ]
    },
    {
      "cell_type": "code",
      "execution_count": null,
      "metadata": {
        "id": "b9qUhEixjcBy",
        "colab": {
          "base_uri": "https://localhost:8080/"
        },
        "outputId": "43fc6328-f8cf-43d6-f228-219b61b40839"
      },
      "outputs": [
        {
          "output_type": "stream",
          "name": "stdout",
          "text": [
            "[[ 1  2  3  4  5]\n",
            " [ 6 -1 -1  7  8]\n",
            " [-1 -1  9 10 11]]\n"
          ]
        },
        {
          "output_type": "stream",
          "name": "stderr",
          "text": [
            "/usr/local/lib/python3.7/dist-packages/ipykernel_launcher.py:5: DeprecationWarning: `np.int` is a deprecated alias for the builtin `int`. To silence this warning, use `int` by itself. Doing this will not modify any behavior and is safe. When replacing `np.int`, you may wish to use e.g. `np.int64` or `np.int32` to specify the precision. If you wish to review your current use, check the release note link for additional information.\n",
            "Deprecated in NumPy 1.20; for more details and guidance: https://numpy.org/devdocs/release/1.20.0-notes.html#deprecations\n",
            "  \"\"\"\n"
          ]
        }
      ],
      "source": [
        "from io import StringIO\n",
        "s = StringIO(\"\"\"1, 2, 3, 4, 5\\n\n",
        "                6,  ,  , 7, 8\\n\n",
        "                 ,  , 9,10,11\\n\"\"\")\n",
        "x = np.genfromtxt(s, delimiter=\",\", dtype=np.int)\n",
        "print(x)"
      ]
    },
    {
      "cell_type": "markdown",
      "metadata": {
        "id": "jFTj9tnjjcBz"
      },
      "source": [
        "#### 55. What is the equivalent of enumerate for numpy arrays? (★★☆) \n",
        "(**hint**: np.ndenumerate, np.ndindex)"
      ]
    },
    {
      "cell_type": "code",
      "execution_count": null,
      "metadata": {
        "id": "ZAoC22_bjcBz",
        "colab": {
          "base_uri": "https://localhost:8080/"
        },
        "outputId": "59e25bd7-cad7-4c73-8c41-7ea07afc7763"
      },
      "outputs": [
        {
          "output_type": "stream",
          "name": "stdout",
          "text": [
            "(0, 0) 0\n",
            "(0, 1) 1\n",
            "(0, 2) 2\n",
            "(1, 0) 3\n",
            "(1, 1) 4\n",
            "(1, 2) 5\n",
            "(2, 0) 6\n",
            "(2, 1) 7\n",
            "(2, 2) 8\n",
            "(0, 0) 0\n",
            "(0, 1) 1\n",
            "(0, 2) 2\n",
            "(1, 0) 3\n",
            "(1, 1) 4\n",
            "(1, 2) 5\n",
            "(2, 0) 6\n",
            "(2, 1) 7\n",
            "(2, 2) 8\n"
          ]
        }
      ],
      "source": [
        "Z = np.arange(9).reshape(3,3)\n",
        "for index, value in np.ndenumerate(Z):\n",
        "    print(index, value)\n",
        "for index in np.ndindex(Z.shape):\n",
        "    print(index, Z[index])"
      ]
    },
    {
      "cell_type": "markdown",
      "metadata": {
        "id": "hZKP-uybjcBz"
      },
      "source": [
        "#### 56. Generate a generic 2D Gaussian-like array (★★☆) \n",
        "(**hint**: np.meshgrid, np.exp)"
      ]
    },
    {
      "cell_type": "code",
      "execution_count": null,
      "metadata": {
        "id": "c1P_-_D2jcB0",
        "colab": {
          "base_uri": "https://localhost:8080/"
        },
        "outputId": "dba55e74-e5c0-45ba-8bca-e061ce431eb2"
      },
      "outputs": [
        {
          "output_type": "stream",
          "name": "stdout",
          "text": [
            "[[0.36787944 0.44822088 0.51979489 0.57375342 0.60279818 0.60279818\n",
            "  0.57375342 0.51979489 0.44822088 0.36787944]\n",
            " [0.44822088 0.54610814 0.63331324 0.69905581 0.73444367 0.73444367\n",
            "  0.69905581 0.63331324 0.54610814 0.44822088]\n",
            " [0.51979489 0.63331324 0.73444367 0.81068432 0.85172308 0.85172308\n",
            "  0.81068432 0.73444367 0.63331324 0.51979489]\n",
            " [0.57375342 0.69905581 0.81068432 0.89483932 0.9401382  0.9401382\n",
            "  0.89483932 0.81068432 0.69905581 0.57375342]\n",
            " [0.60279818 0.73444367 0.85172308 0.9401382  0.98773022 0.98773022\n",
            "  0.9401382  0.85172308 0.73444367 0.60279818]\n",
            " [0.60279818 0.73444367 0.85172308 0.9401382  0.98773022 0.98773022\n",
            "  0.9401382  0.85172308 0.73444367 0.60279818]\n",
            " [0.57375342 0.69905581 0.81068432 0.89483932 0.9401382  0.9401382\n",
            "  0.89483932 0.81068432 0.69905581 0.57375342]\n",
            " [0.51979489 0.63331324 0.73444367 0.81068432 0.85172308 0.85172308\n",
            "  0.81068432 0.73444367 0.63331324 0.51979489]\n",
            " [0.44822088 0.54610814 0.63331324 0.69905581 0.73444367 0.73444367\n",
            "  0.69905581 0.63331324 0.54610814 0.44822088]\n",
            " [0.36787944 0.44822088 0.51979489 0.57375342 0.60279818 0.60279818\n",
            "  0.57375342 0.51979489 0.44822088 0.36787944]]\n"
          ]
        }
      ],
      "source": [
        "X, Y = np.meshgrid(np.linspace(-1,1,10), np.linspace(-1,1,10))\n",
        "D = np.sqrt(X*X+Y*Y)\n",
        "sigma, mu = 1.0, 0.0\n",
        "G = np.exp(-( (D-mu)**2 / ( 2.0 * sigma**2 ) ) )\n",
        "print(G)"
      ]
    },
    {
      "cell_type": "markdown",
      "metadata": {
        "id": "23lcGoQKjcB0"
      },
      "source": [
        "#### 57. How to randomly place p elements in a 2D array? (★★☆) \n",
        "(**hint**: np.put, np.random.choice)"
      ]
    },
    {
      "cell_type": "code",
      "execution_count": null,
      "metadata": {
        "id": "H72p_y3cjcB0",
        "colab": {
          "base_uri": "https://localhost:8080/"
        },
        "outputId": "ec7d7f2c-ba19-4eba-ad13-43e3b0e5f2f6"
      },
      "outputs": [
        {
          "output_type": "stream",
          "name": "stdout",
          "text": [
            "[[0. 0. 0. 0. 0. 0. 0. 0. 0. 0.]\n",
            " [0. 0. 0. 0. 0. 0. 0. 0. 0. 0.]\n",
            " [0. 0. 0. 0. 0. 0. 0. 0. 0. 0.]\n",
            " [0. 0. 0. 0. 0. 0. 0. 0. 0. 0.]\n",
            " [0. 0. 0. 0. 0. 0. 0. 0. 0. 0.]\n",
            " [0. 0. 0. 0. 0. 0. 0. 0. 0. 0.]\n",
            " [0. 0. 1. 0. 0. 0. 0. 0. 0. 0.]\n",
            " [0. 0. 0. 0. 0. 0. 0. 0. 1. 0.]\n",
            " [0. 0. 0. 0. 0. 0. 0. 0. 0. 0.]\n",
            " [1. 0. 0. 0. 0. 0. 0. 0. 0. 0.]]\n"
          ]
        }
      ],
      "source": [
        "n = 10\n",
        "p = 3\n",
        "Z = np.zeros((n,n))\n",
        "np.put(Z, np.random.choice(range(n*n), p, replace=False),1)\n",
        "print(Z)"
      ]
    },
    {
      "cell_type": "markdown",
      "metadata": {
        "id": "fVWb1F9NjcB0"
      },
      "source": [
        "#### 58. Subtract the mean of each row of a matrix (★★☆) \n",
        "(**hint**: mean(axis=,keepdims=))"
      ]
    },
    {
      "cell_type": "code",
      "execution_count": null,
      "metadata": {
        "id": "ViepmcDcjcB0",
        "colab": {
          "base_uri": "https://localhost:8080/"
        },
        "outputId": "b7e792db-f9ca-4b52-b78e-ae25190e0e5c"
      },
      "outputs": [
        {
          "output_type": "stream",
          "name": "stdout",
          "text": [
            "[[-0.00239455  0.06319367  0.21874391  0.05318608  0.02008902 -0.24181856\n",
            "   0.20960193  0.36381695 -0.40905408 -0.27536436]\n",
            " [-0.24896541 -0.23164409  0.03262633  0.30434312 -0.12061247  0.3299013\n",
            "   0.08131018 -0.2145728   0.18815756 -0.12054373]\n",
            " [-0.19831799  0.38937338 -0.16079903 -0.13942757  0.08770397  0.1995846\n",
            "   0.30001711 -0.13580738 -0.02797898 -0.31434813]\n",
            " [-0.03412906  0.48301172  0.0298803  -0.39159134 -0.17976959 -0.20237446\n",
            "   0.09601659  0.30151655 -0.1450007   0.04243998]\n",
            " [ 0.28398747  0.1139397  -0.19190914 -0.1078668   0.45005977 -0.30549104\n",
            "   0.22004159 -0.21307238 -0.24843117 -0.001258  ]]\n"
          ]
        }
      ],
      "source": [
        "X = np.random.rand(5, 10)\n",
        "Y = X - X.mean(axis=1, keepdims=True)\n",
        "print(Y)"
      ]
    },
    {
      "cell_type": "markdown",
      "metadata": {
        "id": "erwWeUaXjcB0"
      },
      "source": [
        "#### 59. How to sort an array by the nth column? (★★☆) \n",
        "(**hint**: argsort)"
      ]
    },
    {
      "cell_type": "code",
      "execution_count": null,
      "metadata": {
        "id": "7AXyKhLYjcB1",
        "colab": {
          "base_uri": "https://localhost:8080/"
        },
        "outputId": "d534707a-6eb5-41d5-9fb9-24b6e1a450da"
      },
      "outputs": [
        {
          "output_type": "stream",
          "name": "stdout",
          "text": [
            "[[9 4 5]\n",
            " [2 9 4]\n",
            " [5 8 5]]\n",
            "[[9 4 5]\n",
            " [5 8 5]\n",
            " [2 9 4]]\n"
          ]
        }
      ],
      "source": [
        "x = np.random.randint(0,10,(3,3))\n",
        "print(x)\n",
        "print(x[x[:,1].argsort()])"
      ]
    },
    {
      "cell_type": "markdown",
      "metadata": {
        "id": "CjJu_bKejcB1"
      },
      "source": [
        "#### 60. How to tell if a given 2D array has null columns? (★★☆) \n",
        "(**hint**: any, ~)"
      ]
    },
    {
      "cell_type": "code",
      "execution_count": null,
      "metadata": {
        "id": "Ff5HZkYdjcB1",
        "colab": {
          "base_uri": "https://localhost:8080/"
        },
        "outputId": "b618dfad-8e96-47a3-fc6c-74af7ffa0427"
      },
      "outputs": [
        {
          "output_type": "stream",
          "name": "stdout",
          "text": [
            "False\n"
          ]
        }
      ],
      "source": [
        "Z = np.random.randint(0,3,(3,10))\n",
        "print((~Z.any(axis=0)).any())"
      ]
    },
    {
      "cell_type": "markdown",
      "metadata": {
        "id": "EVAsfuUOjcB2"
      },
      "source": [
        "#### 61. Find the nearest value from a given value in an array (★★☆) \n",
        "(**hint**: np.abs, argmin, flat)"
      ]
    },
    {
      "cell_type": "code",
      "execution_count": null,
      "metadata": {
        "id": "iqsj9WJ9jcB2",
        "colab": {
          "base_uri": "https://localhost:8080/"
        },
        "outputId": "29e38396-e519-45f5-f042-eaa068a93225"
      },
      "outputs": [
        {
          "output_type": "stream",
          "name": "stdout",
          "text": [
            "0.2775994161967825\n"
          ]
        }
      ],
      "source": [
        "Z = np.random.uniform(0,1,10)\n",
        "z = 0.5\n",
        "m = Z.flat[np.abs(Z - z).argmin()]\n",
        "print(m)"
      ]
    },
    {
      "cell_type": "markdown",
      "metadata": {
        "id": "Ap5VQLhujcB3"
      },
      "source": [
        "#### 62. Considering two arrays with shape (1,3) and (3,1), how to compute their sum using an iterator? (★★☆) \n",
        "(**hint**: np.nditer)"
      ]
    },
    {
      "cell_type": "code",
      "execution_count": null,
      "metadata": {
        "id": "woOfo0YEjcB3",
        "colab": {
          "base_uri": "https://localhost:8080/"
        },
        "outputId": "5384260e-e585-4e87-d842-23cf92f90429"
      },
      "outputs": [
        {
          "output_type": "stream",
          "name": "stdout",
          "text": [
            "[[0 1 2]\n",
            " [1 2 3]\n",
            " [2 3 4]]\n"
          ]
        }
      ],
      "source": [
        "A = np.arange(3).reshape(3,1)\n",
        "B = np.arange(3).reshape(1,3)\n",
        "it = np.nditer([A,B,None])\n",
        "for x,y,z in it: z[...] = x + y\n",
        "print(it.operands[2])"
      ]
    },
    {
      "cell_type": "markdown",
      "metadata": {
        "id": "epKNLfHajcB3"
      },
      "source": [
        "#### 63. Create an array class that has a name attribute (★★☆) \n",
        "(**hint**: class method)"
      ]
    },
    {
      "cell_type": "code",
      "execution_count": null,
      "metadata": {
        "id": "isqPgzf0jcB3",
        "colab": {
          "base_uri": "https://localhost:8080/"
        },
        "outputId": "31568985-1b8a-4720-ece0-73b97dad5fec"
      },
      "outputs": [
        {
          "output_type": "stream",
          "name": "stdout",
          "text": [
            "range_10\n"
          ]
        }
      ],
      "source": [
        "class NamedArray(np.ndarray):\n",
        "    def __new__(cls, array, name=\"no name\"):\n",
        "        obj = np.asarray(array).view(cls)\n",
        "        obj.name = name\n",
        "        return obj\n",
        "    def __array_finalize__(self, obj):\n",
        "        if obj is None: return\n",
        "        self.info = getattr(obj, 'name', \"no name\")\n",
        "\n",
        "Z = NamedArray(np.arange(10), \"range_10\")\n",
        "print (Z.name)"
      ]
    },
    {
      "cell_type": "markdown",
      "metadata": {
        "id": "fqvvYu9rjcB4"
      },
      "source": [
        "#### 64. Consider a given vector, how to add 1 to each element indexed by a second vector (be careful with repeated indices)? (★★★) \n",
        "(**hint**: np.bincount | np.add.at)"
      ]
    },
    {
      "cell_type": "code",
      "execution_count": null,
      "metadata": {
        "id": "G4h5Hk5FjcB4",
        "colab": {
          "base_uri": "https://localhost:8080/"
        },
        "outputId": "8ee0ad06-f374-42ff-b6d5-5e8372cccf44"
      },
      "outputs": [
        {
          "output_type": "stream",
          "name": "stdout",
          "text": [
            "[1. 1. 1. 2. 6. 4. 2. 1. 7. 5.]\n"
          ]
        }
      ],
      "source": [
        "x = np.ones(10)\n",
        "I = np.random.randint(0,len(x),20)\n",
        "x += np.bincount(I, minlength=len(x))\n",
        "print(x)"
      ]
    },
    {
      "cell_type": "markdown",
      "metadata": {
        "id": "oSgnkro8jcB4"
      },
      "source": [
        "#### 65. How to accumulate elements of a vector (X) to an array (F) based on an index list (I)? (★★★) \n",
        "(**hint**: np.bincount)"
      ]
    },
    {
      "cell_type": "code",
      "execution_count": null,
      "metadata": {
        "id": "bFverTi8jcB4",
        "colab": {
          "base_uri": "https://localhost:8080/"
        },
        "outputId": "57f5ac98-e870-4d90-9e06-b49720ab957d"
      },
      "outputs": [
        {
          "output_type": "stream",
          "name": "stdout",
          "text": [
            "[0. 7. 0. 6. 5. 0. 0. 0. 0. 3.]\n"
          ]
        }
      ],
      "source": [
        "X = [1,2,3,4,5,6]\n",
        "I = [1,3,9,3,4,1]\n",
        "F = np.bincount(I,X)\n",
        "print(F)"
      ]
    },
    {
      "cell_type": "markdown",
      "metadata": {
        "id": "Rk6akZCMjcB5"
      },
      "source": [
        "#### 66. Considering a (w,h,3) image of (dtype=ubyte), compute the number of unique colors (★★★) \n",
        "(**hint**: np.unique)"
      ]
    },
    {
      "cell_type": "code",
      "execution_count": null,
      "metadata": {
        "id": "dl1RS1EWjcB5",
        "colab": {
          "base_uri": "https://localhost:8080/"
        },
        "outputId": "e14c7fb1-d1a6-4361-cf3d-4a32246090e5"
      },
      "outputs": [
        {
          "output_type": "stream",
          "name": "stdout",
          "text": [
            "[0 1]\n"
          ]
        }
      ],
      "source": [
        "w,h = 16,16\n",
        "I = np.random.randint(0,2,(h,w,3)).astype(np.ubyte)\n",
        "F = I[...,0]*256*256 + I[...,1]*256 +I[...,2]\n",
        "n = len(np.unique(F))\n",
        "print(np.unique(I))"
      ]
    },
    {
      "cell_type": "markdown",
      "metadata": {
        "id": "BijQSrzjjcB5"
      },
      "source": [
        "#### 67. Considering a four dimensions array, how to get sum over the last two axis at once? (★★★) \n",
        "(**hint**: sum(axis=(-2,-1)))"
      ]
    },
    {
      "cell_type": "code",
      "execution_count": null,
      "metadata": {
        "id": "GrrgrNnejcB5",
        "colab": {
          "base_uri": "https://localhost:8080/"
        },
        "outputId": "1d1c7c1c-0095-4f09-8f61-762eaf7c2cd0"
      },
      "outputs": [
        {
          "output_type": "stream",
          "name": "stdout",
          "text": [
            "[[48 50 37 64]\n",
            " [57 56 43 65]\n",
            " [38 46 52 48]]\n"
          ]
        }
      ],
      "source": [
        "A = np.random.randint(0,10,(3,4,3,4))\n",
        "sum = A.sum(axis=(-2,-1))\n",
        "print(sum)"
      ]
    },
    {
      "cell_type": "markdown",
      "metadata": {
        "id": "l6vObwS4jcB5"
      },
      "source": [
        "#### 68. Considering a one-dimensional vector D, how to compute means of subsets of D using a vector S of same size describing subset  indices? (★★★) \n",
        "(**hint**: np.bincount)"
      ]
    },
    {
      "cell_type": "code",
      "execution_count": null,
      "metadata": {
        "id": "p8Qtvp0bjcB6",
        "colab": {
          "base_uri": "https://localhost:8080/"
        },
        "outputId": "b9e2d3bc-fa72-45e4-e4d4-36d2485a6c80"
      },
      "outputs": [
        {
          "output_type": "stream",
          "name": "stdout",
          "text": [
            "[0.26626204 0.56426621 0.43085546 0.60218235 0.39213048 0.44576122\n",
            " 0.38837554 0.63135261 0.48231807 0.41142671]\n"
          ]
        }
      ],
      "source": [
        "D = np.random.uniform(0,1,100)\n",
        "S = np.random.randint(0,10,100)\n",
        "D_sums = np.bincount(S, weights=D)\n",
        "D_counts = np.bincount(S)\n",
        "D_means = D_sums / D_counts\n",
        "print(D_means)"
      ]
    },
    {
      "cell_type": "markdown",
      "metadata": {
        "id": "E-8FzTk1jcB6"
      },
      "source": [
        "#### 69. How to get the diagonal of a dot product? (★★★) \n",
        "(**hint**: np.diag)"
      ]
    },
    {
      "cell_type": "code",
      "execution_count": null,
      "metadata": {
        "id": "xYRtiRcFjcB6",
        "colab": {
          "base_uri": "https://localhost:8080/"
        },
        "outputId": "51be2328-72ec-4268-9d62-fa5c0c23fe3a"
      },
      "outputs": [
        {
          "output_type": "execute_result",
          "data": {
            "text/plain": [
              "array([2.18292937, 1.20653425, 1.9504946 , 1.76676677, 1.13803123])"
            ]
          },
          "metadata": {},
          "execution_count": 35
        }
      ],
      "source": [
        "A = np.random.uniform(0,1,(5,5))\n",
        "B = np.random.uniform(0,1,(5,5))\n",
        "np.diag(np.dot(A, B))"
      ]
    },
    {
      "cell_type": "markdown",
      "metadata": {
        "id": "w_-l9yPmjcB6"
      },
      "source": [
        "#### 70. Consider the vector \\[1, 2, 3, 4, 5\\], how to build a new vector with 3 consecutive zeros interleaved between each value? (★★★) \n",
        "(**hint**: array\\[::4\\])"
      ]
    },
    {
      "cell_type": "code",
      "execution_count": null,
      "metadata": {
        "id": "LnNhVSJcjcB6",
        "colab": {
          "base_uri": "https://localhost:8080/"
        },
        "outputId": "760fa188-23eb-44d0-9aa5-bc838a0b77b3"
      },
      "outputs": [
        {
          "output_type": "stream",
          "name": "stdout",
          "text": [
            "[1. 0. 0. 0. 2. 0. 0. 0. 3. 0. 0. 0. 4. 0. 0. 0. 5.]\n"
          ]
        }
      ],
      "source": [
        "Z = np.array([1,2,3,4,5])\n",
        "nz = 3\n",
        "Z0 = np.zeros(len(Z) + (len(Z)-1)*(nz))\n",
        "Z0[::nz+1] = Z\n",
        "print(Z0)"
      ]
    },
    {
      "cell_type": "markdown",
      "metadata": {
        "id": "-PKTLBcVjcB7"
      },
      "source": [
        "#### 71. Consider an array of dimension (5,5,3), how to mulitply it by an array with dimensions (5,5)? (★★★) \n",
        "(**hint**: array\\[:, :, None\\])"
      ]
    },
    {
      "cell_type": "code",
      "execution_count": null,
      "metadata": {
        "collapsed": true,
        "id": "-SJYsRS4jcB7",
        "colab": {
          "base_uri": "https://localhost:8080/"
        },
        "outputId": "5030e641-2eb9-4a09-9732-e6b30e0986da"
      },
      "outputs": [
        {
          "output_type": "stream",
          "name": "stdout",
          "text": [
            "[[[2. 2. 2.]\n",
            "  [2. 2. 2.]\n",
            "  [2. 2. 2.]\n",
            "  [2. 2. 2.]\n",
            "  [2. 2. 2.]]\n",
            "\n",
            " [[2. 2. 2.]\n",
            "  [2. 2. 2.]\n",
            "  [2. 2. 2.]\n",
            "  [2. 2. 2.]\n",
            "  [2. 2. 2.]]\n",
            "\n",
            " [[2. 2. 2.]\n",
            "  [2. 2. 2.]\n",
            "  [2. 2. 2.]\n",
            "  [2. 2. 2.]\n",
            "  [2. 2. 2.]]\n",
            "\n",
            " [[2. 2. 2.]\n",
            "  [2. 2. 2.]\n",
            "  [2. 2. 2.]\n",
            "  [2. 2. 2.]\n",
            "  [2. 2. 2.]]\n",
            "\n",
            " [[2. 2. 2.]\n",
            "  [2. 2. 2.]\n",
            "  [2. 2. 2.]\n",
            "  [2. 2. 2.]\n",
            "  [2. 2. 2.]]]\n"
          ]
        }
      ],
      "source": [
        "A = np.ones((5,5,3))\n",
        "B = 2*np.ones((5,5))\n",
        "print(A * B[:,:,None])"
      ]
    },
    {
      "cell_type": "markdown",
      "metadata": {
        "id": "o2BOpOsYjcB7"
      },
      "source": [
        "#### 72. How to swap two rows of an array? (★★★) \n",
        "(**hint**: array\\[\\[\\]\\] = array\\[\\[\\]\\])"
      ]
    },
    {
      "cell_type": "code",
      "execution_count": null,
      "metadata": {
        "id": "pZBreUQ0jcB7",
        "colab": {
          "base_uri": "https://localhost:8080/"
        },
        "outputId": "55e25622-6deb-46ba-8dda-94d2c75694fd"
      },
      "outputs": [
        {
          "output_type": "stream",
          "name": "stdout",
          "text": [
            "[[ 5  6  7  8  9]\n",
            " [ 0  1  2  3  4]\n",
            " [10 11 12 13 14]\n",
            " [15 16 17 18 19]\n",
            " [20 21 22 23 24]]\n"
          ]
        }
      ],
      "source": [
        "A = np.arange(25).reshape(5,5)\n",
        "A[[0,1]] = A[[1,0]]\n",
        "print(A)"
      ]
    },
    {
      "cell_type": "markdown",
      "metadata": {
        "id": "2BWJNdK8jcB8"
      },
      "source": [
        "#### 73. Consider a set of 10 triplets describing 10 triangles (with shared vertices), find the set of unique line segments composing all the  triangles (★★★) \n",
        "(**hint**: repeat, np.roll, np.sort, view, np.unique)"
      ]
    },
    {
      "cell_type": "code",
      "execution_count": null,
      "metadata": {
        "id": "YhpBE57NjcB8",
        "colab": {
          "base_uri": "https://localhost:8080/"
        },
        "outputId": "d8290db9-ea77-470c-d889-80cce2aa3ccf"
      },
      "outputs": [
        {
          "output_type": "stream",
          "name": "stdout",
          "text": [
            "[( 4, 17) ( 4, 28) ( 4, 91) ( 4, 95) ( 7, 48) ( 7, 67) (12, 79) (12, 84)\n",
            " (17, 28) (20, 28) (20, 59) (23, 31) (23, 44) (25, 73) (25, 88) (28, 59)\n",
            " (31, 44) (37, 52) (37, 65) (41, 57) (41, 95) (47, 47) (47, 56) (48, 67)\n",
            " (52, 65) (57, 95) (73, 88) (79, 84) (91, 95)]\n"
          ]
        }
      ],
      "source": [
        "faces = np.random.randint(0,100,(10,3))\n",
        "F = np.roll(faces.repeat(2,axis=1),-1,axis=1)\n",
        "F = F.reshape(len(F)*3,2)\n",
        "F = np.sort(F,axis=1)\n",
        "G = F.view( dtype=[('p0',F.dtype),('p1',F.dtype)] )\n",
        "G = np.unique(G)\n",
        "print(G)"
      ]
    },
    {
      "cell_type": "markdown",
      "metadata": {
        "id": "XBbs69lIjcB8"
      },
      "source": [
        "#### 74. Given an array C that is a bincount, how to produce an array A such that np.bincount(A) == C? (★★★) \n",
        "(**hint**: np.repeat)"
      ]
    },
    {
      "cell_type": "code",
      "execution_count": null,
      "metadata": {
        "id": "TanxLfDwjcB9",
        "colab": {
          "base_uri": "https://localhost:8080/"
        },
        "outputId": "2eeb6342-1b90-4772-8243-1bfaf1c8abc5"
      },
      "outputs": [
        {
          "output_type": "stream",
          "name": "stdout",
          "text": [
            "[1 1 2 3 4 4 6]\n"
          ]
        }
      ],
      "source": [
        "C = np.bincount([1,1,2,3,4,4,6])\n",
        "A = np.repeat(np.arange(len(C)), C)\n",
        "print(A)"
      ]
    },
    {
      "cell_type": "markdown",
      "metadata": {
        "id": "rGvusXHGjcB9"
      },
      "source": [
        "#### 75. How to compute averages using a sliding window over an array? (★★★) \n",
        "(**hint**: np.cumsum)"
      ]
    },
    {
      "cell_type": "code",
      "execution_count": null,
      "metadata": {
        "id": "jgVCUZkwjcB-",
        "colab": {
          "base_uri": "https://localhost:8080/"
        },
        "outputId": "b7557d5c-96e3-4b49-84eb-8d4a45b2f477"
      },
      "outputs": [
        {
          "output_type": "stream",
          "name": "stdout",
          "text": [
            "[ 1.  2.  3.  4.  5.  6.  7.  8.  9. 10. 11. 12. 13. 14. 15. 16. 17. 18.]\n"
          ]
        }
      ],
      "source": [
        "def moving_average(a, n=3) :\n",
        "    ret = np.cumsum(a, dtype=float)\n",
        "    ret[n:] = ret[n:] - ret[:-n]\n",
        "    return ret[n - 1:] / n\n",
        "Z = np.arange(20)\n",
        "print(moving_average(Z, n=3))"
      ]
    },
    {
      "cell_type": "markdown",
      "metadata": {
        "id": "TW68F2RcjcB-"
      },
      "source": [
        "#### 76. Consider a one-dimensional array Z, build a two-dimensional array whose first row is (Z\\[0\\],Z\\[1\\],Z\\[2\\]) and each subsequent row is  shifted by 1 (last row should be (Z\\[-3\\],Z\\[-2\\],Z\\[-1\\]) (★★★) \n",
        "(**hint**: from numpy.lib import stride_tricks)"
      ]
    },
    {
      "cell_type": "code",
      "execution_count": null,
      "metadata": {
        "id": "cj-GvNkwjcB-",
        "colab": {
          "base_uri": "https://localhost:8080/"
        },
        "outputId": "4cb89c3f-d84c-4fab-d43a-4af61ca42712"
      },
      "outputs": [
        {
          "output_type": "stream",
          "name": "stdout",
          "text": [
            "[[0 1 2]\n",
            " [1 2 3]\n",
            " [2 3 4]\n",
            " [3 4 5]\n",
            " [4 5 6]\n",
            " [5 6 7]\n",
            " [6 7 8]\n",
            " [7 8 9]]\n"
          ]
        }
      ],
      "source": [
        "from numpy.lib import stride_tricks\n",
        "\n",
        "def rolling(a, window):\n",
        "    shape = (a.size - window + 1, window)\n",
        "    strides = (a.itemsize, a.itemsize)\n",
        "    return stride_tricks.as_strided(a, shape=shape, strides=strides)\n",
        "Z = rolling(np.arange(10), 3)\n",
        "print(Z)"
      ]
    },
    {
      "cell_type": "markdown",
      "metadata": {
        "id": "A92BSAbFjcB-"
      },
      "source": [
        "#### 77. How to negate a boolean, or to change the sign of a float inplace? (★★★) \n",
        "(**hint**: np.logical_not, np.negative)"
      ]
    },
    {
      "cell_type": "code",
      "execution_count": null,
      "metadata": {
        "id": "LAAh2J3VjcB-",
        "colab": {
          "base_uri": "https://localhost:8080/"
        },
        "outputId": "4bebb67b-c6a1-45ca-9790-33b219166aeb"
      },
      "outputs": [
        {
          "output_type": "execute_result",
          "data": {
            "text/plain": [
              "array([-0.75140084,  0.78075399, -0.69015583,  0.38497726,  0.24781038,\n",
              "       -0.94721341,  0.26927194, -0.00890987,  0.39799413,  0.95533772,\n",
              "       -0.97747717, -0.59818316,  0.60632041, -0.65837749, -0.84097849,\n",
              "       -0.13094114,  0.28607826, -0.38758859, -0.70588664,  0.83640366,\n",
              "       -0.14218479,  0.01597839, -0.39229585, -0.85392896,  0.80169824,\n",
              "        0.73142796, -0.15829714,  0.24641906, -0.89441824,  0.93521704,\n",
              "       -0.17734728, -0.12359859,  0.92655001, -0.13740734,  0.84620351,\n",
              "       -0.4809464 ,  0.19549366, -0.40348024,  0.54602412, -0.50633968,\n",
              "       -0.2329552 , -0.11729534,  0.28550133, -0.16980779, -0.35206531,\n",
              "       -0.70569757,  0.65747677,  0.87875702,  0.40250098,  0.68782311,\n",
              "       -0.54612495,  0.13615429, -0.88155301,  0.29396821, -0.92321639,\n",
              "       -0.01953782,  0.56616741, -0.40366886,  0.82227437, -0.86071398,\n",
              "        0.67984369, -0.78547393,  0.04845541, -0.46634393,  0.56443248,\n",
              "        0.39186041, -0.55849933,  0.4960634 ,  0.69761541, -0.07987717,\n",
              "       -0.9735353 ,  0.7664293 , -0.78496294, -0.85452041, -0.97632218,\n",
              "        0.25731284, -0.60427444,  0.90245238, -0.20495135, -0.88672133,\n",
              "       -0.74919209,  0.03152366,  0.50891432,  0.39601365,  0.02681977,\n",
              "       -0.91817704,  0.23872817,  0.80216308, -0.93295154,  0.29612201,\n",
              "        0.64751629,  0.66715712,  0.22388136,  0.74943502, -0.83643594,\n",
              "       -0.11471954,  0.52170396,  0.98598011, -0.72273747,  0.21620386])"
            ]
          },
          "metadata": {},
          "execution_count": 43
        }
      ],
      "source": [
        "Z = np.random.randint(0,2,100)\n",
        "np.logical_not(Z, out=Z)\n",
        "\n",
        "Z = np.random.uniform(-1.0,1.0,100)\n",
        "np.negative(Z, out=Z)"
      ]
    },
    {
      "cell_type": "markdown",
      "metadata": {
        "id": "aN4b18jpjcB_"
      },
      "source": [
        "#### 78. Consider 2 sets of points P0,P1 describing lines (2d) and a point p, how to compute distance from p to each line i  (P0\\[i\\],P1\\[i\\])? (★★★)"
      ]
    },
    {
      "cell_type": "code",
      "execution_count": null,
      "metadata": {
        "id": "6H-Qz3v_jcB_",
        "colab": {
          "base_uri": "https://localhost:8080/"
        },
        "outputId": "9d5d9250-3e37-49fd-8950-a05080a328c0"
      },
      "outputs": [
        {
          "output_type": "stream",
          "name": "stdout",
          "text": [
            "[1.67243418 7.21043167 0.98243054 2.99433629 2.13548893 7.44051165\n",
            " 2.29015232 5.06274973 3.38687382 2.78484789]\n"
          ]
        }
      ],
      "source": [
        "def distance(P0, P1, p):\n",
        "    T = P1 - P0\n",
        "    L = (T**2).sum(axis=1)\n",
        "    U = -((P0[:,0]-p[...,0])*T[:,0] + (P0[:,1]-p[...,1])*T[:,1]) / L\n",
        "    U = U.reshape(len(U),1)\n",
        "    D = P0 + U*T - p\n",
        "    return np.sqrt((D**2).sum(axis=1))\n",
        "\n",
        "P0 = np.random.uniform(-10,10,(10,2))\n",
        "P1 = np.random.uniform(-10,10,(10,2))\n",
        "p  = np.random.uniform(-10,10,( 1,2))\n",
        "print(distance(P0, P1, p))"
      ]
    },
    {
      "cell_type": "markdown",
      "metadata": {
        "id": "tPNrEbmhjcB_"
      },
      "source": [
        "#### 79. Consider 2 sets of points P0,P1 describing lines (2d) and a set of points P, how to compute distance from each point j (P\\[j\\]) to each line i (P0\\[i\\],P1\\[i\\])? (★★★)"
      ]
    },
    {
      "cell_type": "code",
      "execution_count": null,
      "metadata": {
        "id": "5P-BGtqKjcCA",
        "colab": {
          "base_uri": "https://localhost:8080/"
        },
        "outputId": "3f8e805e-8e3c-43ae-e282-93e8903fb928"
      },
      "outputs": [
        {
          "output_type": "stream",
          "name": "stdout",
          "text": [
            "[[ 1.79551417  0.96078424  5.41822276  3.92560439 14.4709314   8.27081886\n",
            "   8.85860545  4.45435009 14.64033956  6.45210821]\n",
            " [ 6.8940517   6.32489478  4.29988485  1.54834331  6.54827749  5.08667891\n",
            "   1.01840751  5.37490943  6.15929155  8.92536104]\n",
            " [ 4.8232365   3.92692112  9.01736343  0.46263437 12.36245574  4.90340114\n",
            "   9.78987441  5.45892629 16.74055118  9.90505296]\n",
            " [12.27143716 11.41220548 14.20502034  6.29227773  4.94286603  2.11068061\n",
            "   6.23594583  2.04667901 15.76986983 16.69294531]\n",
            " [ 5.5892687   4.77057485  8.11602179  0.45829487 10.72552298  4.67897666\n",
            "   7.13681648  2.80531144 14.23875448  9.93534437]\n",
            " [10.67849814 10.18303185  5.86944622  1.37079532  2.12899261  1.89211279\n",
            "   4.52409968  8.81985547  3.8811239  11.8780219 ]\n",
            " [ 1.18518862  1.71701617  2.83502411  9.60099928 13.6782724  13.21721152\n",
            "   0.43293515  4.09314851  4.68829464  0.86063598]\n",
            " [ 6.67502457  6.36273208  0.867531    4.15987137  3.71241017  7.02979709\n",
            "   8.90878811 13.32233022  2.20694964  6.39170944]\n",
            " [ 0.90098864  0.51460199  4.00757185  8.97229025 10.00113859 12.16197056\n",
            "   4.74826876  9.26235114  0.02126803  1.53986302]\n",
            " [11.97361734 11.71466084  2.29890153  0.39338716  1.8849614   2.22152556\n",
            "  12.27244937 16.59072552  3.77469564 10.9766689 ]]\n"
          ]
        }
      ],
      "source": [
        "P0 = np.random.uniform(-10, 10, (10,2))\n",
        "P1 = np.random.uniform(-10,10,(10,2))\n",
        "p = np.random.uniform(-10, 10, (10,2))\n",
        "print(np.array([distance(P0,P1,p_i) for p_i in p]))"
      ]
    },
    {
      "cell_type": "markdown",
      "metadata": {
        "id": "Gx1WhOdJjcCA"
      },
      "source": [
        "#### 80. Consider an arbitrary array, write a function that extract a subpart with a fixed shape and centered on a given element (pad with a `fill` value when necessary) (★★★) \n",
        "(**hint**: minimum, maximum)"
      ]
    },
    {
      "cell_type": "code",
      "execution_count": null,
      "metadata": {
        "id": "3rvboF9TjcCA",
        "colab": {
          "base_uri": "https://localhost:8080/"
        },
        "outputId": "e9b9205d-85ac-4cfa-9787-3cfa9bd19e6b"
      },
      "outputs": [
        {
          "output_type": "stream",
          "name": "stdout",
          "text": [
            "[[1 3 2 2 9 4 8 1 0 3]\n",
            " [0 7 7 8 7 2 6 3 0 4]\n",
            " [5 5 4 4 2 6 2 9 0 9]\n",
            " [5 8 9 0 6 5 1 7 8 2]\n",
            " [5 0 6 4 6 2 6 2 8 5]\n",
            " [5 3 5 6 1 5 8 8 8 2]\n",
            " [6 4 7 3 9 9 6 5 5 7]\n",
            " [1 9 4 7 1 0 7 1 7 1]\n",
            " [3 3 8 0 0 8 0 5 2 9]\n",
            " [8 1 8 4 8 4 9 0 4 7]]\n",
            "[[0 0 0 0 0]\n",
            " [0 1 3 2 2]\n",
            " [0 0 7 7 8]\n",
            " [0 5 5 4 4]\n",
            " [0 5 8 9 0]]\n"
          ]
        },
        {
          "output_type": "stream",
          "name": "stderr",
          "text": [
            "/usr/local/lib/python3.7/dist-packages/ipykernel_launcher.py:23: FutureWarning: Using a non-tuple sequence for multidimensional indexing is deprecated; use `arr[tuple(seq)]` instead of `arr[seq]`. In the future this will be interpreted as an array index, `arr[np.array(seq)]`, which will result either in an error or a different result.\n"
          ]
        }
      ],
      "source": [
        "Z = np.random.randint(0,10,(10,10))\n",
        "shape = (5,5)\n",
        "fill  = 0\n",
        "position = (1,1)\n",
        "\n",
        "R = np.ones(shape, dtype=Z.dtype)*fill\n",
        "P  = np.array(list(position)).astype(int)\n",
        "Rs = np.array(list(R.shape)).astype(int)\n",
        "Zs = np.array(list(Z.shape)).astype(int)\n",
        "\n",
        "R_start = np.zeros((len(shape),)).astype(int)\n",
        "R_stop  = np.array(list(shape)).astype(int)\n",
        "Z_start = (P-Rs//2)\n",
        "Z_stop  = (P+Rs//2)+Rs%2\n",
        "\n",
        "R_start = (R_start - np.minimum(Z_start,0)).tolist()\n",
        "Z_start = (np.maximum(Z_start,0)).tolist()\n",
        "R_stop = np.maximum(R_start, (R_stop - np.maximum(Z_stop-Zs,0))).tolist()\n",
        "Z_stop = (np.minimum(Z_stop,Zs)).tolist()\n",
        "\n",
        "r = [slice(start,stop) for start,stop in zip(R_start,R_stop)]\n",
        "z = [slice(start,stop) for start,stop in zip(Z_start,Z_stop)]\n",
        "R[r] = Z[z]\n",
        "print(Z)\n",
        "print(R)"
      ]
    },
    {
      "cell_type": "markdown",
      "metadata": {
        "id": "lxsRD8M8jcCB"
      },
      "source": [
        "#### 81. Consider an array Z = \\[1,2,3,4,5,6,7,8,9,10,11,12,13,14\\], how to generate an array R = \\[\\[1,2,3,4\\], \\[2,3,4,5\\], \\[3,4,5,6\\], ..., \\[11,12,13,14\\]\\]? (★★★) \n",
        "(**hint**: stride\\_tricks.as\\_strided)"
      ]
    },
    {
      "cell_type": "code",
      "execution_count": null,
      "metadata": {
        "id": "Zt5Job6vjcCB",
        "colab": {
          "base_uri": "https://localhost:8080/"
        },
        "outputId": "dafde8e3-217e-4d36-c11a-7623896a29a8"
      },
      "outputs": [
        {
          "output_type": "stream",
          "name": "stdout",
          "text": [
            "[[ 1  2  3  4]\n",
            " [ 2  3  4  5]\n",
            " [ 3  4  5  6]\n",
            " [ 4  5  6  7]\n",
            " [ 5  6  7  8]\n",
            " [ 6  7  8  9]\n",
            " [ 7  8  9 10]\n",
            " [ 8  9 10 11]\n",
            " [ 9 10 11 12]\n",
            " [10 11 12 13]\n",
            " [11 12 13 14]]\n"
          ]
        }
      ],
      "source": [
        "Z = np.arange(1,15,dtype=np.uint32)\n",
        "R = stride_tricks.as_strided(Z,(11,4),(4,4))\n",
        "print(R)"
      ]
    },
    {
      "cell_type": "markdown",
      "metadata": {
        "id": "Rhwhj2cljcCC"
      },
      "source": [
        "#### 82. Compute a matrix rank (★★★) \n",
        "(**hint**: np.linalg.svd) (suggestion: np.linalg.svd)"
      ]
    },
    {
      "cell_type": "code",
      "execution_count": null,
      "metadata": {
        "id": "3DJlHs6fjcCC",
        "colab": {
          "base_uri": "https://localhost:8080/"
        },
        "outputId": "fd1d161b-e259-4bcb-8207-6bb57cfc4d32"
      },
      "outputs": [
        {
          "output_type": "stream",
          "name": "stdout",
          "text": [
            "10\n"
          ]
        }
      ],
      "source": [
        "Z = np.random.uniform(0,1,(10,10))\n",
        "U, S, V = np.linalg.svd(Z)\n",
        "rank = np.sum(S > 1e-10)\n",
        "print(rank)"
      ]
    },
    {
      "cell_type": "markdown",
      "metadata": {
        "id": "sTZfUL-mjcCC"
      },
      "source": [
        "#### 83. How to find the most frequent value in an array? \n",
        "(**hint**: np.bincount, argmax)"
      ]
    },
    {
      "cell_type": "code",
      "execution_count": null,
      "metadata": {
        "id": "J6qBLKkajcCD",
        "colab": {
          "base_uri": "https://localhost:8080/"
        },
        "outputId": "ca8650c8-7cda-451a-ec97-5d42be9f0895"
      },
      "outputs": [
        {
          "output_type": "stream",
          "name": "stdout",
          "text": [
            "1\n"
          ]
        }
      ],
      "source": [
        "Z = np.random.randint(0,10,50)\n",
        "print(np.bincount(Z).argmax())"
      ]
    },
    {
      "cell_type": "markdown",
      "metadata": {
        "id": "BhquxZVMjcCD"
      },
      "source": [
        "#### 84. Extract all the contiguous 3x3 blocks from a random 10x10 matrix (★★★) \n",
        "(**hint**: stride\\_tricks.as\\_strided)"
      ]
    },
    {
      "cell_type": "code",
      "execution_count": null,
      "metadata": {
        "id": "Se0zO1W1jcCE",
        "colab": {
          "base_uri": "https://localhost:8080/"
        },
        "outputId": "324b7849-3c48-4903-ec26-5214f15adff2"
      },
      "outputs": [
        {
          "output_type": "stream",
          "name": "stdout",
          "text": [
            "[[[[3 1 3]\n",
            "   [1 4 3]\n",
            "   [2 2 2]]\n",
            "\n",
            "  [[1 3 1]\n",
            "   [4 3 0]\n",
            "   [2 2 4]]\n",
            "\n",
            "  [[3 1 4]\n",
            "   [3 0 0]\n",
            "   [2 4 4]]\n",
            "\n",
            "  [[1 4 3]\n",
            "   [0 0 2]\n",
            "   [4 4 1]]\n",
            "\n",
            "  [[4 3 4]\n",
            "   [0 2 3]\n",
            "   [4 1 3]]\n",
            "\n",
            "  [[3 4 3]\n",
            "   [2 3 3]\n",
            "   [1 3 0]]\n",
            "\n",
            "  [[4 3 3]\n",
            "   [3 3 4]\n",
            "   [3 0 0]]\n",
            "\n",
            "  [[3 3 4]\n",
            "   [3 4 4]\n",
            "   [0 0 1]]]\n",
            "\n",
            "\n",
            " [[[1 4 3]\n",
            "   [2 2 2]\n",
            "   [0 2 0]]\n",
            "\n",
            "  [[4 3 0]\n",
            "   [2 2 4]\n",
            "   [2 0 3]]\n",
            "\n",
            "  [[3 0 0]\n",
            "   [2 4 4]\n",
            "   [0 3 3]]\n",
            "\n",
            "  [[0 0 2]\n",
            "   [4 4 1]\n",
            "   [3 3 4]]\n",
            "\n",
            "  [[0 2 3]\n",
            "   [4 1 3]\n",
            "   [3 4 3]]\n",
            "\n",
            "  [[2 3 3]\n",
            "   [1 3 0]\n",
            "   [4 3 0]]\n",
            "\n",
            "  [[3 3 4]\n",
            "   [3 0 0]\n",
            "   [3 0 4]]\n",
            "\n",
            "  [[3 4 4]\n",
            "   [0 0 1]\n",
            "   [0 4 4]]]\n",
            "\n",
            "\n",
            " [[[2 2 2]\n",
            "   [0 2 0]\n",
            "   [3 4 2]]\n",
            "\n",
            "  [[2 2 4]\n",
            "   [2 0 3]\n",
            "   [4 2 3]]\n",
            "\n",
            "  [[2 4 4]\n",
            "   [0 3 3]\n",
            "   [2 3 0]]\n",
            "\n",
            "  [[4 4 1]\n",
            "   [3 3 4]\n",
            "   [3 0 0]]\n",
            "\n",
            "  [[4 1 3]\n",
            "   [3 4 3]\n",
            "   [0 0 0]]\n",
            "\n",
            "  [[1 3 0]\n",
            "   [4 3 0]\n",
            "   [0 0 2]]\n",
            "\n",
            "  [[3 0 0]\n",
            "   [3 0 4]\n",
            "   [0 2 3]]\n",
            "\n",
            "  [[0 0 1]\n",
            "   [0 4 4]\n",
            "   [2 3 4]]]\n",
            "\n",
            "\n",
            " [[[0 2 0]\n",
            "   [3 4 2]\n",
            "   [3 3 2]]\n",
            "\n",
            "  [[2 0 3]\n",
            "   [4 2 3]\n",
            "   [3 2 3]]\n",
            "\n",
            "  [[0 3 3]\n",
            "   [2 3 0]\n",
            "   [2 3 1]]\n",
            "\n",
            "  [[3 3 4]\n",
            "   [3 0 0]\n",
            "   [3 1 4]]\n",
            "\n",
            "  [[3 4 3]\n",
            "   [0 0 0]\n",
            "   [1 4 3]]\n",
            "\n",
            "  [[4 3 0]\n",
            "   [0 0 2]\n",
            "   [4 3 4]]\n",
            "\n",
            "  [[3 0 4]\n",
            "   [0 2 3]\n",
            "   [3 4 3]]\n",
            "\n",
            "  [[0 4 4]\n",
            "   [2 3 4]\n",
            "   [4 3 0]]]\n",
            "\n",
            "\n",
            " [[[3 4 2]\n",
            "   [3 3 2]\n",
            "   [2 1 1]]\n",
            "\n",
            "  [[4 2 3]\n",
            "   [3 2 3]\n",
            "   [1 1 1]]\n",
            "\n",
            "  [[2 3 0]\n",
            "   [2 3 1]\n",
            "   [1 1 1]]\n",
            "\n",
            "  [[3 0 0]\n",
            "   [3 1 4]\n",
            "   [1 1 4]]\n",
            "\n",
            "  [[0 0 0]\n",
            "   [1 4 3]\n",
            "   [1 4 2]]\n",
            "\n",
            "  [[0 0 2]\n",
            "   [4 3 4]\n",
            "   [4 2 1]]\n",
            "\n",
            "  [[0 2 3]\n",
            "   [3 4 3]\n",
            "   [2 1 3]]\n",
            "\n",
            "  [[2 3 4]\n",
            "   [4 3 0]\n",
            "   [1 3 3]]]\n",
            "\n",
            "\n",
            " [[[3 3 2]\n",
            "   [2 1 1]\n",
            "   [4 4 1]]\n",
            "\n",
            "  [[3 2 3]\n",
            "   [1 1 1]\n",
            "   [4 1 2]]\n",
            "\n",
            "  [[2 3 1]\n",
            "   [1 1 1]\n",
            "   [1 2 3]]\n",
            "\n",
            "  [[3 1 4]\n",
            "   [1 1 4]\n",
            "   [2 3 2]]\n",
            "\n",
            "  [[1 4 3]\n",
            "   [1 4 2]\n",
            "   [3 2 0]]\n",
            "\n",
            "  [[4 3 4]\n",
            "   [4 2 1]\n",
            "   [2 0 4]]\n",
            "\n",
            "  [[3 4 3]\n",
            "   [2 1 3]\n",
            "   [0 4 0]]\n",
            "\n",
            "  [[4 3 0]\n",
            "   [1 3 3]\n",
            "   [4 0 0]]]\n",
            "\n",
            "\n",
            " [[[2 1 1]\n",
            "   [4 4 1]\n",
            "   [1 0 2]]\n",
            "\n",
            "  [[1 1 1]\n",
            "   [4 1 2]\n",
            "   [0 2 2]]\n",
            "\n",
            "  [[1 1 1]\n",
            "   [1 2 3]\n",
            "   [2 2 4]]\n",
            "\n",
            "  [[1 1 4]\n",
            "   [2 3 2]\n",
            "   [2 4 1]]\n",
            "\n",
            "  [[1 4 2]\n",
            "   [3 2 0]\n",
            "   [4 1 3]]\n",
            "\n",
            "  [[4 2 1]\n",
            "   [2 0 4]\n",
            "   [1 3 0]]\n",
            "\n",
            "  [[2 1 3]\n",
            "   [0 4 0]\n",
            "   [3 0 4]]\n",
            "\n",
            "  [[1 3 3]\n",
            "   [4 0 0]\n",
            "   [0 4 0]]]\n",
            "\n",
            "\n",
            " [[[4 4 1]\n",
            "   [1 0 2]\n",
            "   [2 0 3]]\n",
            "\n",
            "  [[4 1 2]\n",
            "   [0 2 2]\n",
            "   [0 3 2]]\n",
            "\n",
            "  [[1 2 3]\n",
            "   [2 2 4]\n",
            "   [3 2 0]]\n",
            "\n",
            "  [[2 3 2]\n",
            "   [2 4 1]\n",
            "   [2 0 1]]\n",
            "\n",
            "  [[3 2 0]\n",
            "   [4 1 3]\n",
            "   [0 1 1]]\n",
            "\n",
            "  [[2 0 4]\n",
            "   [1 3 0]\n",
            "   [1 1 3]]\n",
            "\n",
            "  [[0 4 0]\n",
            "   [3 0 4]\n",
            "   [1 3 1]]\n",
            "\n",
            "  [[4 0 0]\n",
            "   [0 4 0]\n",
            "   [3 1 3]]]]\n"
          ]
        }
      ],
      "source": [
        "Z = np.random.randint(0,5,(10,10))\n",
        "n = 3\n",
        "i = 1 + (Z.shape[0]-3)\n",
        "j = 1 + (Z.shape[1]-3)\n",
        "C = stride_tricks.as_strided(Z, shape=(i, j, n, n), strides=Z.strides + Z.strides)\n",
        "print(C)"
      ]
    },
    {
      "cell_type": "markdown",
      "metadata": {
        "id": "85bgJMZRjcCE"
      },
      "source": [
        "#### 85. Create a 2D array subclass such that Z\\[i,j\\] == Z\\[j,i\\] (★★★) \n",
        "(**hint**: class method)"
      ]
    },
    {
      "cell_type": "code",
      "execution_count": null,
      "metadata": {
        "id": "Z3CrLBVdjcCE",
        "colab": {
          "base_uri": "https://localhost:8080/"
        },
        "outputId": "e167a199-fdf6-4212-c5c8-dd6086164f56"
      },
      "outputs": [
        {
          "output_type": "stream",
          "name": "stdout",
          "text": [
            "[[ 8  8  8  2 11]\n",
            " [ 8  9 11 12 16]\n",
            " [ 8 11  9 42 12]\n",
            " [ 2 12 42  5  7]\n",
            " [11 16 12  7  5]]\n"
          ]
        }
      ],
      "source": [
        "class Symetric(np.ndarray):\n",
        "    def __setitem__(self, index, value):\n",
        "        i,j = index\n",
        "        super(Symetric, self).__setitem__((i,j), value)\n",
        "        super(Symetric, self).__setitem__((j,i), value)\n",
        "\n",
        "def symetric(Z):\n",
        "    return np.asarray(Z + Z.T - np.diag(Z.diagonal())).view(Symetric)\n",
        "\n",
        "S = symetric(np.random.randint(0,10,(5,5)))\n",
        "S[2,3] = 42\n",
        "print(S)"
      ]
    },
    {
      "cell_type": "markdown",
      "metadata": {
        "id": "DgrsgAQejcCF"
      },
      "source": [
        "#### 86. Consider a set of p matrices wich shape (n,n) and a set of p vectors with shape (n,1). How to compute the sum of of the p matrix products at once? (result has shape (n,1)) (★★★) \n",
        "(**hint**: np.tensordot)"
      ]
    },
    {
      "cell_type": "code",
      "execution_count": null,
      "metadata": {
        "id": "hJLa5I3DjcCF",
        "colab": {
          "base_uri": "https://localhost:8080/"
        },
        "outputId": "17b6a851-053a-4271-af8b-1b6dda34823d"
      },
      "outputs": [
        {
          "output_type": "stream",
          "name": "stdout",
          "text": [
            "[[200.]\n",
            " [200.]\n",
            " [200.]\n",
            " [200.]\n",
            " [200.]\n",
            " [200.]\n",
            " [200.]\n",
            " [200.]\n",
            " [200.]\n",
            " [200.]\n",
            " [200.]\n",
            " [200.]\n",
            " [200.]\n",
            " [200.]\n",
            " [200.]\n",
            " [200.]\n",
            " [200.]\n",
            " [200.]\n",
            " [200.]\n",
            " [200.]]\n"
          ]
        }
      ],
      "source": [
        "p, n = 10, 20\n",
        "M = np.ones((p,n,n))\n",
        "V = np.ones((p,n,1))\n",
        "S = np.tensordot(M, V, axes=[[0, 2], [0, 1]])\n",
        "print(S)"
      ]
    },
    {
      "cell_type": "markdown",
      "metadata": {
        "id": "QbQ7apntjcCF"
      },
      "source": [
        "#### 87. Consider a 16x16 array, how to get the block-sum (block size is 4x4)? (★★★) \n",
        "(**hint**: np.add.reduceat)"
      ]
    },
    {
      "cell_type": "code",
      "execution_count": null,
      "metadata": {
        "id": "hVaL2A1sjcCH",
        "colab": {
          "base_uri": "https://localhost:8080/"
        },
        "outputId": "3eda5627-2942-42e5-c55d-cfbdd2f188dd"
      },
      "outputs": [
        {
          "output_type": "stream",
          "name": "stdout",
          "text": [
            "[[16. 16. 16. 16.]\n",
            " [16. 16. 16. 16.]\n",
            " [16. 16. 16. 16.]\n",
            " [16. 16. 16. 16.]]\n"
          ]
        }
      ],
      "source": [
        "Z = np.ones((16,16))\n",
        "k = 4\n",
        "S = np.add.reduceat(np.add.reduceat(Z, np.arange(0, Z.shape[0], k), axis=0),\n",
        "                                       np.arange(0, Z.shape[1], k), axis=1)\n",
        "print(S)"
      ]
    },
    {
      "cell_type": "markdown",
      "metadata": {
        "id": "vJzAWiSqjcCI"
      },
      "source": [
        "#### 88. How to implement the Game of Life using numpy arrays? (★★★)"
      ]
    },
    {
      "cell_type": "code",
      "execution_count": null,
      "metadata": {
        "id": "7HQZKAPijcCI",
        "colab": {
          "base_uri": "https://localhost:8080/"
        },
        "outputId": "806f5a13-f42e-480f-dea0-64e28cb5777b"
      },
      "outputs": [
        {
          "output_type": "stream",
          "name": "stdout",
          "text": [
            "[[0 0 0 ... 0 0 0]\n",
            " [0 0 0 ... 0 0 0]\n",
            " [0 0 0 ... 0 0 0]\n",
            " ...\n",
            " [0 0 0 ... 0 0 0]\n",
            " [0 0 0 ... 0 0 0]\n",
            " [0 0 0 ... 0 0 0]]\n"
          ]
        }
      ],
      "source": [
        "def iterate(Z):\n",
        "    N = (Z[0:-2,0:-2] + Z[0:-2,1:-1] + Z[0:-2,2:] +\n",
        "         Z[1:-1,0:-2]                + Z[1:-1,2:] +\n",
        "         Z[2:  ,0:-2] + Z[2:  ,1:-1] + Z[2:  ,2:])\n",
        "    birth = (N==3) & (Z[1:-1,1:-1]==0)\n",
        "    survive = ((N==2) | (N==3)) & (Z[1:-1,1:-1]==1)\n",
        "    Z[...] = 0\n",
        "    Z[1:-1,1:-1][birth | survive] = 1\n",
        "    return Z\n",
        "\n",
        "Z = np.random.randint(0,2,(50,50))\n",
        "for i in range(100): Z = iterate(Z)\n",
        "print(Z)"
      ]
    },
    {
      "cell_type": "markdown",
      "metadata": {
        "id": "g1hQTe_1jcCI"
      },
      "source": [
        "#### 89. How to get the n largest values of an array (★★★) \n",
        "(**hint**: np.argsort | np.argpartition)"
      ]
    },
    {
      "cell_type": "code",
      "execution_count": null,
      "metadata": {
        "id": "l01a3CsejcCJ",
        "colab": {
          "base_uri": "https://localhost:8080/"
        },
        "outputId": "9bbb8b0b-9452-4768-9ea7-6dc00bdc90c6"
      },
      "outputs": [
        {
          "output_type": "stream",
          "name": "stdout",
          "text": [
            "[9995 9996 9997 9998 9999]\n",
            "[9996 9997 9999 9998 9995]\n"
          ]
        }
      ],
      "source": [
        "Z = np.arange(10000)\n",
        "np.random.shuffle(Z)\n",
        "n = 5\n",
        "print (Z[np.argsort(Z)[-n:]])\n",
        "print (Z[np.argpartition(-Z,n)[:n]])"
      ]
    },
    {
      "cell_type": "markdown",
      "metadata": {
        "id": "1rqiRPYLjcCJ"
      },
      "source": [
        "#### 90. Given an arbitrary number of vectors, build the cartesian product (every combinations of every item) (★★★) \n",
        "(**hint**: np.indices)"
      ]
    },
    {
      "cell_type": "code",
      "execution_count": null,
      "metadata": {
        "scrolled": true,
        "id": "uLYbAbHsjcCJ",
        "colab": {
          "base_uri": "https://localhost:8080/"
        },
        "outputId": "f49d582e-bc2b-44da-d878-24b4c07a60df"
      },
      "outputs": [
        {
          "output_type": "stream",
          "name": "stdout",
          "text": [
            "[[1 4 6]\n",
            " [1 4 7]\n",
            " [1 5 6]\n",
            " [1 5 7]\n",
            " [2 4 6]\n",
            " [2 4 7]\n",
            " [2 5 6]\n",
            " [2 5 7]\n",
            " [3 4 6]\n",
            " [3 4 7]\n",
            " [3 5 6]\n",
            " [3 5 7]]\n"
          ]
        }
      ],
      "source": [
        "def cartesian(arrays):\n",
        "    arrays = [np.asarray(a) for a in arrays]\n",
        "    shape = (len(x) for x in arrays)\n",
        "\n",
        "    ix = np.indices(shape, dtype=int)\n",
        "    ix = ix.reshape(len(arrays), -1).T\n",
        "\n",
        "    for n, arr in enumerate(arrays):\n",
        "        ix[:, n] = arrays[n][ix[:, n]]\n",
        "\n",
        "    return ix\n",
        "\n",
        "print (cartesian(([1, 2, 3], [4, 5], [6, 7])))"
      ]
    },
    {
      "cell_type": "markdown",
      "metadata": {
        "id": "_0lzGDFPjcCJ"
      },
      "source": [
        "#### 91. How to create a record array from a regular array? (★★★) \n",
        "(**hint**: np.core.records.fromarrays)"
      ]
    },
    {
      "cell_type": "code",
      "execution_count": null,
      "metadata": {
        "id": "t6YLQeubjcCJ",
        "colab": {
          "base_uri": "https://localhost:8080/"
        },
        "outputId": "0c42db07-d4ad-46f7-f164-4fd739e699f2"
      },
      "outputs": [
        {
          "output_type": "stream",
          "name": "stdout",
          "text": [
            "[(b'Hello', 2.5, 3) (b'World', 3.6, 2)]\n"
          ]
        }
      ],
      "source": [
        "Z = np.array([(\"Hello\", 2.5, 3),\n",
        "              (\"World\", 3.6, 2)])\n",
        "R = np.core.records.fromarrays(Z.T, \n",
        "                               names='col1, col2, col3',\n",
        "                               formats = 'S8, f8, i8')\n",
        "print(R)"
      ]
    },
    {
      "cell_type": "markdown",
      "metadata": {
        "id": "HLex1UNojcCJ"
      },
      "source": [
        "#### 92. Consider a large vector Z, compute Z to the power of 3 using 3 different methods (★★★) \n",
        "(**hint**: np.power, \\*, np.einsum)"
      ]
    },
    {
      "cell_type": "code",
      "execution_count": null,
      "metadata": {
        "id": "l_Fb8Km2jcCK"
      },
      "outputs": [],
      "source": []
    },
    {
      "cell_type": "markdown",
      "metadata": {
        "id": "3VAQGeH4jcCK"
      },
      "source": [
        "#### 93. Consider two arrays A and B of shape (8,3) and (2,2). How to find rows of A that contain elements of each row of B regardless of the order of the elements in B? (★★★) \n",
        "(**hint**: np.where)"
      ]
    },
    {
      "cell_type": "code",
      "execution_count": null,
      "metadata": {
        "id": "A5-x1BG5jcCK",
        "colab": {
          "base_uri": "https://localhost:8080/"
        },
        "outputId": "768013e1-bb9f-4bea-ff20-a696cff98d6c"
      },
      "outputs": [
        {
          "output_type": "stream",
          "name": "stdout",
          "text": [
            "[1 4 5 6 7]\n"
          ]
        }
      ],
      "source": [
        "A = np.random.randint(0,5,(8,3))\n",
        "B = np.random.randint(0,5,(2,2))\n",
        "\n",
        "C = (A[..., np.newaxis, np.newaxis] == B)\n",
        "rows = np.where(C.any((3,1)).all(1))[0]\n",
        "print(rows)"
      ]
    },
    {
      "cell_type": "markdown",
      "metadata": {
        "id": "_d5sognTjcCK"
      },
      "source": [
        "#### 94. Considering a 10x3 matrix, extract rows with unequal values (e.g. \\[2,2,3\\]) (★★★)"
      ]
    },
    {
      "cell_type": "code",
      "execution_count": null,
      "metadata": {
        "id": "6CGMj8GcjcCK",
        "colab": {
          "base_uri": "https://localhost:8080/"
        },
        "outputId": "d0c39588-76e2-40cc-af0c-760b9d85efdc"
      },
      "outputs": [
        {
          "output_type": "stream",
          "name": "stdout",
          "text": [
            "[[4 3 0]\n",
            " [4 4 4]\n",
            " [4 3 1]\n",
            " [1 2 0]\n",
            " [3 2 3]\n",
            " [2 0 3]\n",
            " [4 1 0]\n",
            " [3 3 3]\n",
            " [3 4 2]\n",
            " [2 4 1]]\n",
            "[[4 3 0]\n",
            " [4 3 1]\n",
            " [1 2 0]\n",
            " [3 2 3]\n",
            " [2 0 3]\n",
            " [4 1 0]\n",
            " [3 4 2]\n",
            " [2 4 1]]\n"
          ]
        }
      ],
      "source": [
        "Z = np.random.randint(0,5,(10,3))\n",
        "print(Z)\n",
        "U = Z[~(Z[:,0,None]==Z[:,1:]).all(axis=1)]\n",
        "print(U)"
      ]
    },
    {
      "cell_type": "markdown",
      "metadata": {
        "id": "Ryp6z-prjcCK"
      },
      "source": [
        "#### 95. Convert a vector of ints into a matrix binary representation (★★★) \n",
        "(**hint**: np.unpackbits)"
      ]
    },
    {
      "cell_type": "code",
      "execution_count": null,
      "metadata": {
        "id": "VXC6iBFyjcCL",
        "colab": {
          "base_uri": "https://localhost:8080/"
        },
        "outputId": "6eaf1b7a-5175-49ad-c020-ce329ca31b33"
      },
      "outputs": [
        {
          "output_type": "stream",
          "name": "stdout",
          "text": [
            "[[0 0 0 0 0 0 0 0]\n",
            " [0 0 0 0 0 0 0 1]\n",
            " [0 0 0 0 0 0 1 0]\n",
            " [0 0 0 0 0 0 1 1]\n",
            " [0 0 0 0 1 1 1 1]\n",
            " [0 0 0 1 0 0 0 0]\n",
            " [0 0 1 0 0 0 0 0]\n",
            " [0 1 0 0 0 0 0 0]\n",
            " [1 0 0 0 0 0 0 0]]\n"
          ]
        }
      ],
      "source": [
        "I = np.array([0, 1, 2, 3, 15, 16, 32, 64, 128], dtype=np.uint8)\n",
        "print(np.unpackbits(I[:, np.newaxis], axis=1))"
      ]
    },
    {
      "cell_type": "markdown",
      "metadata": {
        "id": "xZM_JZPIjcCL"
      },
      "source": [
        "#### 96. Given a two dimensional array, how to extract unique rows? (★★★) \n",
        "(**hint**: np.ascontiguousarray)"
      ]
    },
    {
      "cell_type": "code",
      "execution_count": null,
      "metadata": {
        "id": "kOH7BwYhjcCL",
        "colab": {
          "base_uri": "https://localhost:8080/"
        },
        "outputId": "e7f0bb73-f66e-427b-9a0c-252c3a5534cf"
      },
      "outputs": [
        {
          "output_type": "stream",
          "name": "stdout",
          "text": [
            "[[0 0 1]\n",
            " [1 0 0]\n",
            " [1 0 1]\n",
            " [1 1 1]]\n"
          ]
        }
      ],
      "source": [
        "Z = np.random.randint(0,2,(6,3))\n",
        "T = np.ascontiguousarray(Z).view(np.dtype((np.void, Z.dtype.itemsize * Z.shape[1])))\n",
        "_, idx = np.unique(T, return_index=True)\n",
        "uZ = Z[idx]\n",
        "print(uZ)"
      ]
    },
    {
      "cell_type": "markdown",
      "metadata": {
        "id": "wELk44IIjcCL"
      },
      "source": [
        "#### 97. Considering 2 vectors A & B, write the einsum equivalent of inner, outer, sum, and mul function (★★★) \n",
        "(**hint**: np.einsum)"
      ]
    },
    {
      "cell_type": "code",
      "execution_count": null,
      "metadata": {
        "id": "B8kpE4ZRjcCL",
        "colab": {
          "base_uri": "https://localhost:8080/"
        },
        "outputId": "b563d25d-3eb5-4bdd-c924-a4bff2d98ee7"
      },
      "outputs": [
        {
          "output_type": "execute_result",
          "data": {
            "text/plain": [
              "array([[0.51430237, 0.13604721, 0.62823619, 0.54906505, 0.53440838,\n",
              "        0.90002424, 0.22682679, 0.55220378, 0.43654737, 0.21533011],\n",
              "       [0.14625262, 0.03868786, 0.17865208, 0.15613811, 0.15197018,\n",
              "        0.25594068, 0.06450293, 0.15703067, 0.12414136, 0.06123361],\n",
              "       [0.28108639, 0.07435513, 0.34335568, 0.30008555, 0.29207511,\n",
              "        0.49189849, 0.12396972, 0.30180099, 0.23859023, 0.11768634],\n",
              "       [0.4438728 , 0.11741664, 0.5422043 , 0.47387501, 0.46122546,\n",
              "        0.77677316, 0.19576469, 0.47658391, 0.37676572, 0.18584238],\n",
              "       [0.53304392, 0.14100486, 0.65112956, 0.56907337, 0.5538826 ,\n",
              "        0.93282176, 0.23509252, 0.57232647, 0.45245546, 0.22317689],\n",
              "       [0.1951693 , 0.05162768, 0.23840531, 0.20836117, 0.2027992 ,\n",
              "        0.34154441, 0.08607704, 0.20955226, 0.16566256, 0.08171424],\n",
              "       [0.50173983, 0.13272407, 0.61289066, 0.53565338, 0.52135473,\n",
              "        0.87803991, 0.22128624, 0.53871544, 0.4258841 , 0.21007038],\n",
              "       [0.3306401 , 0.08746346, 0.40388707, 0.3529887 , 0.34356606,\n",
              "        0.57861702, 0.14582479, 0.35500655, 0.28065215, 0.13843368],\n",
              "       [0.15481533, 0.04095294, 0.18911169, 0.16527959, 0.16086764,\n",
              "        0.27092534, 0.06827941, 0.16622441, 0.13140951, 0.06481868],\n",
              "       [0.3125957 , 0.08269021, 0.38184527, 0.33372464, 0.32481624,\n",
              "        0.54703948, 0.13786652, 0.33563237, 0.26533579, 0.13087878]])"
            ]
          },
          "metadata": {},
          "execution_count": 62
        }
      ],
      "source": [
        "A = np.random.uniform(0,1,10)\n",
        "B = np.random.uniform(0,1,10)\n",
        "np.einsum('i->', A)       # np.sum(A)\n",
        "np.einsum('i,i->i', A, B) # A * B\n",
        "np.einsum('i,i', A, B)    # np.inner(A, B)\n",
        "np.einsum('i,j->ij', A, B)    # np.outer(A, B)"
      ]
    },
    {
      "cell_type": "markdown",
      "metadata": {
        "id": "rjsZPioPjcCM"
      },
      "source": [
        "#### 98. Considering a path described by two vectors (X,Y), how to sample it using equidistant samples (★★★)? \n",
        "(**hint**: np.cumsum, np.interp)"
      ]
    },
    {
      "cell_type": "code",
      "execution_count": null,
      "metadata": {
        "collapsed": true,
        "id": "KbkhXkP6jcCM"
      },
      "outputs": [],
      "source": [
        "phi = np.arange(0, 10*np.pi, 0.1)\n",
        "a = 1\n",
        "x = a*phi*np.cos(phi)\n",
        "y = a*phi*np.sin(phi)\n",
        "\n",
        "dr = (np.diff(x)**2 + np.diff(y)**2)**.5 # segment lengths\n",
        "r = np.zeros_like(x)\n",
        "r[1:] = np.cumsum(dr)                # integrate path\n",
        "r_int = np.linspace(0, r.max(), 200) # regular spaced path\n",
        "x_int = np.interp(r_int, r, x)       # integrate path\n",
        "y_int = np.interp(r_int, r, y)"
      ]
    },
    {
      "cell_type": "markdown",
      "metadata": {
        "id": "X6ysXTwgjcCM"
      },
      "source": [
        "#### 99. Given an integer n and a 2D array X, select from X the rows which can be interpreted as draws from a multinomial distribution with n degrees, i.e., the rows which only contain integers and which sum to n. (★★★) \n",
        "(**hint**: np.logical\\_and.reduce, np.mod)"
      ]
    },
    {
      "cell_type": "code",
      "execution_count": null,
      "metadata": {
        "id": "-q-eaUxNjcCN",
        "colab": {
          "base_uri": "https://localhost:8080/"
        },
        "outputId": "877f8333-49f1-4810-ff9f-e998bf56d52b"
      },
      "outputs": [
        {
          "output_type": "stream",
          "name": "stdout",
          "text": [
            "[[2. 0. 1. 1.]]\n"
          ]
        }
      ],
      "source": [
        "X = np.asarray([[1.0, 0.0, 3.0, 8.0],\n",
        "                [2.0, 0.0, 1.0, 1.0],\n",
        "                [1.5, 2.5, 1.0, 0.0]])\n",
        "n = 4\n",
        "M = np.logical_and.reduce(np.mod(X, 1) == 0, axis=-1)\n",
        "M &= (X.sum(axis=-1) == n)\n",
        "print(X[M])"
      ]
    },
    {
      "cell_type": "markdown",
      "metadata": {
        "id": "FRXsbsOajcCN"
      },
      "source": [
        "#### 100. Compute bootstrapped 95% confidence intervals for the mean of a 1D array X (i.e., resample the elements of an array with replacement N times, compute the mean of each sample, and then compute percentiles over the means). (★★★) \n",
        "(**hint**: np.percentile)"
      ]
    },
    {
      "cell_type": "code",
      "execution_count": null,
      "metadata": {
        "id": "gLHJWM-EjcCN",
        "colab": {
          "base_uri": "https://localhost:8080/"
        },
        "outputId": "ec024504-4867-42a3-e689-2720473a64ff"
      },
      "outputs": [
        {
          "output_type": "stream",
          "name": "stdout",
          "text": [
            "[-0.13757609  0.27782149]\n"
          ]
        }
      ],
      "source": [
        "X = np.random.randn(100) # random 1D array\n",
        "N = 1000 # number of bootstrap samples\n",
        "idx = np.random.randint(0, X.size, (N, X.size))\n",
        "means = X[idx].mean(axis=1)\n",
        "confint = np.percentile(means, [2.5, 97.5])\n",
        "print(confint)"
      ]
    }
  ],
  "metadata": {
    "kernelspec": {
      "display_name": "Python 3",
      "language": "python",
      "name": "python3"
    },
    "language_info": {
      "codemirror_mode": {
        "name": "ipython",
        "version": 3
      },
      "file_extension": ".py",
      "mimetype": "text/x-python",
      "name": "python",
      "nbconvert_exporter": "python",
      "pygments_lexer": "ipython3",
      "version": "3.8.3"
    },
    "colab": {
      "provenance": [],
      "collapsed_sections": [
        "HLex1UNojcCJ"
      ],
      "include_colab_link": true
    }
  },
  "nbformat": 4,
  "nbformat_minor": 0
}